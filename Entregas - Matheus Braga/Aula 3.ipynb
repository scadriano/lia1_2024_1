{
 "cells": [
  {
   "cell_type": "markdown",
   "id": "0f052f34",
   "metadata": {},
   "source": [
    "<hr style=\"height:10px\"> \n",
    " \n",
    "<div class='container2'>\n",
    "\t\t<div>\n",
    "\t\t\t<img src='nova_imagem.jpg' ALIGN='left' style='width:10em'>\n",
    "\t\t</div>\t\n",
    "\t<div style='padding: 0 7em 2em 12em;'>\n",
    "\t<h1>Laboratório de Inovação e Automação 1 (LIA 1)</h1>\n",
    "\t<div style=\"font-size:12pt;float:left;\"> 2024/1 | 24M34 | Sala 200 CAE</div><br><br>\n",
    "    <div style=\"font-size:12pt;float:left;\"><b>Projetos de Inteligência Artificial</b></div>\n",
    "\t</div>\n",
    "</div>\n",
    "\n",
    "\n",
    " <hr style=\"height:5px\"> \n",
    "\n",
    "    \n",
    "<h2>Introdução ao Ambiente de Projetos - Python</h2>\n",
    "\n",
    "Notebook desenvolvido por: <a href=\"http://lattes.cnpq.br/8431456281634342\">Aluno Matheus Braga de Medeiros Dias</a>\n",
    "\n",
    " <hr style=\"height:2px\"> \n"
   ]
  },
  {
   "cell_type": "code",
   "execution_count": 16,
   "id": "d97a478a",
   "metadata": {},
   "outputs": [
    {
     "name": "stdout",
     "output_type": "stream",
     "text": [
      "A versão em uso é 3.11.5.\n"
     ]
    }
   ],
   "source": [
    "from platform import python_version\n",
    "print(f'A versão em uso é {python_version()}.')"
   ]
  },
  {
   "cell_type": "code",
   "execution_count": 17,
   "id": "a2f65271",
   "metadata": {},
   "outputs": [
    {
     "name": "stdout",
     "output_type": "stream",
     "text": [
      "Bye bye, World!\n"
     ]
    }
   ],
   "source": [
    "# Verificar se o Python está funcionando\n",
    "print('Bye bye, World!')"
   ]
  },
  {
   "cell_type": "markdown",
   "id": "7588cfd6",
   "metadata": {},
   "source": [
    "#Operadores Aritméticos"
   ]
  },
  {
   "cell_type": "code",
   "execution_count": 18,
   "id": "24a53cf9",
   "metadata": {},
   "outputs": [
    {
     "data": {
      "text/plain": [
       "2"
      ]
     },
     "execution_count": 18,
     "metadata": {},
     "output_type": "execute_result"
    }
   ],
   "source": [
    "# Adição\n",
    "1 + 1"
   ]
  },
  {
   "cell_type": "code",
   "execution_count": 19,
   "id": "d019e3ec",
   "metadata": {},
   "outputs": [
    {
     "data": {
      "text/plain": [
       "4"
      ]
     },
     "execution_count": 19,
     "metadata": {},
     "output_type": "execute_result"
    }
   ],
   "source": [
    "# Multiplicação\n",
    "2 * 2"
   ]
  },
  {
   "cell_type": "code",
   "execution_count": 20,
   "id": "93b0cc2a",
   "metadata": {},
   "outputs": [
    {
     "data": {
      "text/plain": [
       "1.5"
      ]
     },
     "execution_count": 20,
     "metadata": {},
     "output_type": "execute_result"
    }
   ],
   "source": [
    "# Divisão\n",
    "3 / 2"
   ]
  },
  {
   "cell_type": "code",
   "execution_count": 21,
   "id": "33d6f670",
   "metadata": {},
   "outputs": [
    {
     "data": {
      "text/plain": [
       "16"
      ]
     },
     "execution_count": 21,
     "metadata": {},
     "output_type": "execute_result"
    }
   ],
   "source": [
    "# Potência\n",
    "4 ** 2\n"
   ]
  },
  {
   "cell_type": "code",
   "execution_count": 22,
   "id": "930bca66",
   "metadata": {},
   "outputs": [
    {
     "data": {
      "text/plain": [
       "int"
      ]
     },
     "execution_count": 22,
     "metadata": {},
     "output_type": "execute_result"
    }
   ],
   "source": [
    "#Tipo de Dados (Type)\n",
    "# Qual o tipo do (?) -> Inteiro\n",
    "type(5)"
   ]
  },
  {
   "cell_type": "code",
   "execution_count": 23,
   "id": "19df2ca5",
   "metadata": {},
   "outputs": [
    {
     "data": {
      "text/plain": [
       "float"
      ]
     },
     "execution_count": 23,
     "metadata": {},
     "output_type": "execute_result"
    }
   ],
   "source": [
    "# Qual o tipo do (?) -> Float - Decimal\n",
    "type(5.0)"
   ]
  },
  {
   "cell_type": "code",
   "execution_count": 24,
   "id": "d9fd9df7",
   "metadata": {},
   "outputs": [
    {
     "name": "stdout",
     "output_type": "stream",
     "text": [
      "A sentença é verdadeira!\n"
     ]
    }
   ],
   "source": [
    "#Condicional if\n",
    "# Condicional if (Se)\n",
    "if 5 > 2:\n",
    "    print(\"A sentença é verdadeira!\")"
   ]
  },
  {
   "cell_type": "code",
   "execution_count": 25,
   "id": "d5d59bed",
   "metadata": {},
   "outputs": [
    {
     "name": "stdout",
     "output_type": "stream",
     "text": [
      "A sentença é falsa!\n"
     ]
    }
   ],
   "source": [
    "# Condicional if...else\n",
    "if 5 < 2:\n",
    "    print(\"A sentença é verdadeira!\")\n",
    "else:\n",
    "    print(\"A sentença é falsa!\")\n"
   ]
  },
  {
   "cell_type": "code",
   "execution_count": 36,
   "id": "11e2d417",
   "metadata": {
    "scrolled": false
   },
   "outputs": [
    {
     "name": "stdout",
     "output_type": "stream",
     "text": [
      "\n",
      "Toda a gestÃ£o de conteÃºdo desta disciplina serÃ¡ realizada diretamente no Github, no endereÃ§o abaixo:\n",
      "\n",
      "RepositÃ³rio no Github:\n",
      "https://github.com/scadriano/lia1_2024_1\n"
     ]
    }
   ],
   "source": [
    "# Abrindo o arquivo para leitura\n",
    "a1 = open(\"teste.txt\", \"r\")\n",
    "print(a1.read())"
   ]
  },
  {
   "cell_type": "code",
   "execution_count": 41,
   "id": "b3f365b4",
   "metadata": {
    "scrolled": true
   },
   "outputs": [],
   "source": [
    "#Gravando arquivos (.txt)\n",
    "\n",
    "# Abrindo o arquivo para gravação\n",
    "a2 = open(\"teste.txt\", \"w\")"
   ]
  },
  {
   "cell_type": "code",
   "execution_count": null,
   "id": "824ef4f7",
   "metadata": {},
   "outputs": [],
   "source": []
  }
 ],
 "metadata": {
  "kernelspec": {
   "display_name": "Python 3 (ipykernel)",
   "language": "python",
   "name": "python3"
  },
  "language_info": {
   "codemirror_mode": {
    "name": "ipython",
    "version": 3
   },
   "file_extension": ".py",
   "mimetype": "text/x-python",
   "name": "python",
   "nbconvert_exporter": "python",
   "pygments_lexer": "ipython3",
   "version": "3.11.5"
  }
 },
 "nbformat": 4,
 "nbformat_minor": 5
}
