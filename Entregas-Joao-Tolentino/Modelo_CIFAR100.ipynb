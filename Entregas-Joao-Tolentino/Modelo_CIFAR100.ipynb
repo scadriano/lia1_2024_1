{
  "nbformat": 4,
  "nbformat_minor": 0,
  "metadata": {
    "colab": {
      "provenance": [],
      "mount_file_id": "1VPQgUTJXO8TN78vN33mgPOkUkclyksJa",
      "authorship_tag": "ABX9TyOVOs7gglUgg6LlbuvLU0qJ",
      "include_colab_link": true
    },
    "kernelspec": {
      "name": "python3",
      "display_name": "Python 3"
    },
    "language_info": {
      "name": "python"
    }
  },
  "cells": [
    {
      "cell_type": "markdown",
      "metadata": {
        "id": "view-in-github",
        "colab_type": "text"
      },
      "source": [
        "<a href=\"https://colab.research.google.com/github/Joao-Tolentino/lia1_2024_1/blob/main/Entregas-Joao-Tolentino/Modelo_CIFAR100.ipynb\" target=\"_parent\"><img src=\"https://colab.research.google.com/assets/colab-badge.svg\" alt=\"Open In Colab\"/></a>"
      ]
    },
    {
      "cell_type": "markdown",
      "source": [
        "CIFAR100\n",
        "Recebe uma imagem e a classifica como um número;\n",
        "Cada número é relativo a uma Superclasse e uma subclasse, um nível abaixo do anterior, esse dataset é usadoo para categorizar imagens dentro dessas Superclasses e Subclasses"
      ],
      "metadata": {
        "id": "3gz7wagdKj8g"
      }
    },
    {
      "cell_type": "code",
      "execution_count": 49,
      "metadata": {
        "id": "Gszo0eU81yfI"
      },
      "outputs": [],
      "source": [
        "#Importando Bibliotecas\n",
        "import tensorflow as tf\n",
        "from tensorflow.keras import layers, models\n",
        "from tensorflow.keras.datasets import cifar100\n",
        "from tensorflow.keras.utils import to_categorical, get_file\n",
        "import numpy as np\n",
        "import matplotlib.pyplot as plt\n",
        "import json\n",
        "from PIL import Image\n",
        "\n",
        "# Carregando o CIFAR-100 dataset\n",
        "(x_train, y_train), (x_test, y_test) = cifar100.load_data(label_mode='fine')\n",
        "\n",
        "# Carregando as labels das superclasses do CIFAR-100\n",
        "(_, y_train_superclass), (x_test_superclass, y_test_superclass) = cifar100.load_data(label_mode='coarse')\n",
        "\n",
        "# Carregando as labels do CIFAR-100\n",
        "(_, _), (_, labels) = cifar100.load_data(label_mode='fine')\n",
        "\n",
        "# Normalizar as imagens\n",
        "x_train, x_test = x_train / 255.0, x_test / 255.0\n",
        "\n",
        "# Converte as labels\n",
        "y_train_superclass = to_categorical(y_train_superclass, 20)\n",
        "y_test_superclass = to_categorical(y_test_superclass, 20)\n",
        "y_train = to_categorical(y_train, 100)\n",
        "y_test = to_categorical(y_test, 100)"
      ]
    },
    {
      "cell_type": "code",
      "source": [
        "# Criando o modelo para subclasse\n",
        "subclass_model = models.Sequential([\n",
        "    layers.Conv2D(32, (3, 3), activation='relu', input_shape=(32, 32, 3)),\n",
        "    layers.MaxPooling2D((2, 2)),\n",
        "    layers.Conv2D(64, (3, 3), activation='relu'),\n",
        "    layers.MaxPooling2D((2, 2)),\n",
        "    layers.Conv2D(64, (3, 3), activation='relu'),\n",
        "    layers.Flatten(),\n",
        "    layers.Dense(64, activation='relu'),\n",
        "    layers.Dense(100, activation='softmax')  # Output for subclass prediction\n",
        "])"
      ],
      "metadata": {
        "id": "esoiBGnt2v7H"
      },
      "execution_count": 50,
      "outputs": []
    },
    {
      "cell_type": "code",
      "source": [
        "# Compila o modelo\n",
        "subclass_model.compile(optimizer='adam',\n",
        "                       loss='categorical_crossentropy',\n",
        "                       metrics=['accuracy'])\n"
      ],
      "metadata": {
        "id": "DMFzq6I922Q8"
      },
      "execution_count": 51,
      "outputs": []
    },
    {
      "cell_type": "code",
      "source": [
        "# Treina o modelo\n",
        "subclass_model.fit(x_train, y_train, epochs=10, batch_size=64, validation_data=(x_test, y_test))"
      ],
      "metadata": {
        "colab": {
          "base_uri": "https://localhost:8080/"
        },
        "id": "hz3gRyG228HJ",
        "outputId": "64a2ec94-5cb5-4496-d6b8-fb6ca4f15528"
      },
      "execution_count": 52,
      "outputs": [
        {
          "output_type": "stream",
          "name": "stdout",
          "text": [
            "Epoch 1/10\n",
            "782/782 [==============================] - 68s 86ms/step - loss: 4.0203 - accuracy: 0.0851 - val_loss: 3.5994 - val_accuracy: 0.1473\n",
            "Epoch 2/10\n",
            "782/782 [==============================] - 67s 86ms/step - loss: 3.4051 - accuracy: 0.1840 - val_loss: 3.2891 - val_accuracy: 0.2090\n",
            "Epoch 3/10\n",
            "782/782 [==============================] - 66s 84ms/step - loss: 3.0969 - accuracy: 0.2391 - val_loss: 3.0499 - val_accuracy: 0.2528\n",
            "Epoch 4/10\n",
            "782/782 [==============================] - 68s 87ms/step - loss: 2.8997 - accuracy: 0.2780 - val_loss: 2.8900 - val_accuracy: 0.2743\n",
            "Epoch 5/10\n",
            "782/782 [==============================] - 69s 88ms/step - loss: 2.7524 - accuracy: 0.3044 - val_loss: 2.7924 - val_accuracy: 0.3036\n",
            "Epoch 6/10\n",
            "782/782 [==============================] - 67s 85ms/step - loss: 2.6340 - accuracy: 0.3316 - val_loss: 2.7299 - val_accuracy: 0.3176\n",
            "Epoch 7/10\n",
            "782/782 [==============================] - 65s 83ms/step - loss: 2.5322 - accuracy: 0.3517 - val_loss: 2.6397 - val_accuracy: 0.3359\n",
            "Epoch 8/10\n",
            "782/782 [==============================] - 66s 85ms/step - loss: 2.4415 - accuracy: 0.3727 - val_loss: 2.6220 - val_accuracy: 0.3356\n",
            "Epoch 9/10\n",
            "782/782 [==============================] - 68s 87ms/step - loss: 2.3638 - accuracy: 0.3859 - val_loss: 2.5634 - val_accuracy: 0.3552\n",
            "Epoch 10/10\n",
            "782/782 [==============================] - 71s 91ms/step - loss: 2.3032 - accuracy: 0.4016 - val_loss: 2.5204 - val_accuracy: 0.3589\n"
          ]
        },
        {
          "output_type": "execute_result",
          "data": {
            "text/plain": [
              "<keras.src.callbacks.History at 0x7b7a8c5895a0>"
            ]
          },
          "metadata": {},
          "execution_count": 52
        }
      ]
    },
    {
      "cell_type": "code",
      "source": [
        "# Imprime a precisão do modelo\n",
        "test_loss, test_acc = subclass_model.evaluate(x_test, y_test)\n",
        "print('Accurácia:', test_acc)"
      ],
      "metadata": {
        "colab": {
          "base_uri": "https://localhost:8080/"
        },
        "id": "_vLP_BRaFjpC",
        "outputId": "4eb92d7c-42d2-4940-e7d6-80f455ce5f77"
      },
      "execution_count": 53,
      "outputs": [
        {
          "output_type": "stream",
          "name": "stdout",
          "text": [
            "313/313 [==============================] - 4s 12ms/step - loss: 2.5204 - accuracy: 0.3589\n",
            "Accurácia: 0.3589000105857849\n"
          ]
        }
      ]
    },
    {
      "cell_type": "code",
      "source": [
        "#Modelo para superclasse\n",
        "superclass_model = models.Sequential(subclass_model.layers[:-1])\n",
        "superclass_model.add(layers.Dense(20, activation='softmax'))  # Output for superclass prediction\n",
        "\n",
        "# Compilar o modelo para as superclasses\n",
        "superclass_model.compile(optimizer='adam',\n",
        "                         loss='categorical_crossentropy',\n",
        "                         metrics=['accuracy'])"
      ],
      "metadata": {
        "id": "wEco6REs3BCx"
      },
      "execution_count": 54,
      "outputs": []
    },
    {
      "cell_type": "code",
      "source": [
        "# Treina o modelo para superclasse\n",
        "superclass_model.fit(x_train, y_train_superclass, epochs=10, batch_size=64, validation_data=(x_test, y_test_superclass))"
      ],
      "metadata": {
        "colab": {
          "base_uri": "https://localhost:8080/"
        },
        "id": "eaeid2oEF3PX",
        "outputId": "58366735-89aa-4840-9168-0caa4ae196eb"
      },
      "execution_count": 55,
      "outputs": [
        {
          "output_type": "stream",
          "name": "stdout",
          "text": [
            "Epoch 1/10\n",
            "782/782 [==============================] - 69s 86ms/step - loss: 2.1338 - accuracy: 0.3447 - val_loss: 1.8400 - val_accuracy: 0.4233\n",
            "Epoch 2/10\n",
            "782/782 [==============================] - 69s 89ms/step - loss: 1.6470 - accuracy: 0.4832 - val_loss: 1.7233 - val_accuracy: 0.4638\n",
            "Epoch 3/10\n",
            "782/782 [==============================] - 66s 85ms/step - loss: 1.5352 - accuracy: 0.5172 - val_loss: 1.6448 - val_accuracy: 0.4821\n",
            "Epoch 4/10\n",
            "782/782 [==============================] - 67s 85ms/step - loss: 1.4546 - accuracy: 0.5418 - val_loss: 1.6541 - val_accuracy: 0.4847\n",
            "Epoch 5/10\n",
            "782/782 [==============================] - 66s 85ms/step - loss: 1.3986 - accuracy: 0.5568 - val_loss: 1.6153 - val_accuracy: 0.5022\n",
            "Epoch 6/10\n",
            "782/782 [==============================] - 68s 87ms/step - loss: 1.3399 - accuracy: 0.5757 - val_loss: 1.5986 - val_accuracy: 0.5047\n",
            "Epoch 7/10\n",
            "782/782 [==============================] - 67s 86ms/step - loss: 1.2935 - accuracy: 0.5880 - val_loss: 1.5863 - val_accuracy: 0.5122\n",
            "Epoch 8/10\n",
            "782/782 [==============================] - 67s 86ms/step - loss: 1.2466 - accuracy: 0.6062 - val_loss: 1.6278 - val_accuracy: 0.5087\n",
            "Epoch 9/10\n",
            "782/782 [==============================] - 69s 88ms/step - loss: 1.1985 - accuracy: 0.6186 - val_loss: 1.6111 - val_accuracy: 0.5103\n",
            "Epoch 10/10\n",
            "782/782 [==============================] - 68s 87ms/step - loss: 1.1653 - accuracy: 0.6293 - val_loss: 1.6835 - val_accuracy: 0.5050\n"
          ]
        },
        {
          "output_type": "execute_result",
          "data": {
            "text/plain": [
              "<keras.src.callbacks.History at 0x7b7a924f8850>"
            ]
          },
          "metadata": {},
          "execution_count": 55
        }
      ]
    },
    {
      "cell_type": "code",
      "source": [
        "# Imprime a precisão do modelo\n",
        "test_loss, test_acc = superclass_model.evaluate(x_test, y_test_superclass)\n",
        "print('Accurácia:', test_acc)"
      ],
      "metadata": {
        "colab": {
          "base_uri": "https://localhost:8080/"
        },
        "id": "QNjEz_whF7f-",
        "outputId": "f93b417b-e6fd-46f9-dd8d-054dc50be63e"
      },
      "execution_count": 56,
      "outputs": [
        {
          "output_type": "stream",
          "name": "stdout",
          "text": [
            "313/313 [==============================] - 4s 12ms/step - loss: 1.6835 - accuracy: 0.5050\n",
            "Accurácia: 0.5049999952316284\n"
          ]
        }
      ]
    },
    {
      "cell_type": "code",
      "source": [
        "def get_subclass_name(subclass_index):\n",
        "    # Load CIFAR-100 subclass labels\n",
        "    (_, _), (_, subclass_labels) = cifar100.load_data(label_mode='fine')\n",
        "\n",
        "    # Return the subclass name for the given index\n",
        "    return subclass_labels[subclass_index][0]"
      ],
      "metadata": {
        "id": "TXdNp6zoI4uU"
      },
      "execution_count": 57,
      "outputs": []
    },
    {
      "cell_type": "code",
      "source": [
        "def get_superclass_name(superclass_index):\n",
        "    # Load CIFAR-100 superclass labels\n",
        "    (_, _), (_, superclass_labels) = cifar100.load_data(label_mode='coarse')\n",
        "\n",
        "    # Return the superclass name for the given index\n",
        "    return superclass_labels[superclass_index]"
      ],
      "metadata": {
        "id": "bmqTXqnqI32b"
      },
      "execution_count": 58,
      "outputs": []
    },
    {
      "cell_type": "code",
      "source": [
        "# Carrega uma imagem de um arquivo\n",
        "image = Image.open(\"/content/drive/MyDrive/Colab Notebooks/Modelo-Cifar100/gatinho.jpg\")\n",
        "image = image.resize((32, 32))\n",
        "image = np.array(image) / 255.0\n",
        "image = np.expand_dims(image, axis=0)\n",
        "\n",
        "# Coleta a class da previsão e coloca em um \"printável\"l\n",
        "# Make subclass prediction using the trained model\n",
        "subclass_predictions = subclass_model.predict(image)\n",
        "predicted_subclass_index = np.argmax(subclass_predictions)\n",
        "predicted_subclass_label = labels[predicted_subclass_index][0]\n",
        "\n",
        "# Print the predicted subclass label\n",
        "print(\"Previsão subclasse:\", get_subclass_name(predicted_subclass_index))\n",
        "\n",
        "# Make superclass prediction using the trained model\n",
        "superclass_predictions = superclass_model.predict(image)\n",
        "predicted_superclass_index = np.argmax(superclass_predictions)\n",
        "predicted_superclass_label = predicted_superclass_index\n",
        "\n",
        "# Print the predicted superclass label\n",
        "print(\"Previsão superclasse:\", predicted_superclass_label)\n",
        "\n",
        "# Visualiza a imagem\n",
        "plt.imshow(image[0])\n",
        "plt.axis('off')\n",
        "#plt.title(f\"Previsão: {predicted_class_label}\")\n",
        "plt.show()"
      ],
      "metadata": {
        "colab": {
          "base_uri": "https://localhost:8080/",
          "height": 475
        },
        "id": "nZwmjIwE4Ohl",
        "outputId": "9b3b8a26-3a93-45d6-e63d-dc3cf949538c"
      },
      "execution_count": 60,
      "outputs": [
        {
          "output_type": "stream",
          "name": "stdout",
          "text": [
            "1/1 [==============================] - 0s 25ms/step\n",
            "Previsão subclasse: 2\n",
            "1/1 [==============================] - 0s 22ms/step\n",
            "Previsão superclasse: 14\n"
          ]
        },
        {
          "output_type": "display_data",
          "data": {
            "text/plain": [
              "<Figure size 640x480 with 1 Axes>"
            ],
            "image/png": "[encoded data removed]"
          },
          "metadata": {}
        }
      ]
    }
  ]
}