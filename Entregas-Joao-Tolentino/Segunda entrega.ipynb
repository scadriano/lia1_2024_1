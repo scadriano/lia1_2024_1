{
 "cells": [
  {
   "cell_type": "markdown",
   "id": "5ffb781e",
   "metadata": {
    "papermill": {
     "duration": 0.009035,
     "end_time": "2024-03-28T13:06:15.177330",
     "exception": false,
     "start_time": "2024-03-28T13:06:15.168295",
     "status": "completed"
    },
    "tags": []
   },
   "source": [
    "<hr style=\"height:10px\"> \n",
    " \n",
    "<div class='container2'>\n",
    "\t\t<div>\n",
    "\t\t\t<img src='https://s2-techtudo.glbimg.com/Bxr-QA4_gL25CarCCxr9JQFybt8=/0x0:1024x609/924x0/smart/filters:strip_icc()/i.s3.glbimg.com/v1/AUTH_08fbf48bc0524877943fe86e43087e7a/internal_photos/bs/2022/c/u/15eppqSmeTdHkoAKM0Uw/dall-e-2.jpg' ALIGN='left' style='width:10em'>\n",
    "\t\t</div>\t\n",
    "\t<div style='padding: 0 7em 2em 12em;'>\n",
    "\t<h1>Laboratório de Inovação e Automação 1 (LIA 1)</h1>\n",
    "\t<div style=\"font-size:12pt;float:left;\"> 2024/1 | 24M34 | Sala 200 CAE</div><br><br>\n",
    "    <div style=\"font-size:12pt;float:left;\"><b>Projetos de Inteligência Artificial</b></div>\n",
    "\t</div>\n",
    "</div>\n",
    "\n",
    "\n",
    " <hr style=\"height:5px\"> \n",
    "\n",
    "    \n",
    "<h2>Introdução ao Ambiente de Projetos - Python</h2>\n",
    "\n",
    "Notebook desenvolvido por: <a href=\"http://lattes.cnpq.br/1346824250595330\">Prof. Dr. Adriano C. Santana</a>\n",
    "\n",
    " <hr style=\"height:2px\"> \n"
   ]
  },
  {
   "cell_type": "markdown",
   "id": "0b462722",
   "metadata": {
    "papermill": {
     "duration": 0.008245,
     "end_time": "2024-03-28T13:06:15.194521",
     "exception": false,
     "start_time": "2024-03-28T13:06:15.186276",
     "status": "completed"
    },
    "tags": []
   },
   "source": [
    "[Tudo sobre o Python, clique aqui!](https://docs.python.org/pt-br/3/tutorial/)"
   ]
  },
  {
   "cell_type": "code",
   "execution_count": 1,
   "id": "9f56b394",
   "metadata": {
    "execution": {
     "iopub.execute_input": "2024-03-28T13:06:15.212741Z",
     "iopub.status.busy": "2024-03-28T13:06:15.212240Z",
     "iopub.status.idle": "2024-03-28T13:06:15.227309Z",
     "shell.execute_reply": "2024-03-28T13:06:15.226185Z"
    },
    "papermill": {
     "duration": 0.027352,
     "end_time": "2024-03-28T13:06:15.229750",
     "exception": false,
     "start_time": "2024-03-28T13:06:15.202398",
     "status": "completed"
    },
    "tags": []
   },
   "outputs": [
    {
     "name": "stdout",
     "output_type": "stream",
     "text": [
      "A versão em uso é 3.10.13.\n"
     ]
    }
   ],
   "source": [
    "from platform import python_version\n",
    "print(f'A versão em uso é {python_version()}.')"
   ]
  },
  {
   "cell_type": "code",
   "execution_count": 2,
   "id": "7a00ac46",
   "metadata": {
    "execution": {
     "iopub.execute_input": "2024-03-28T13:06:15.248720Z",
     "iopub.status.busy": "2024-03-28T13:06:15.247991Z",
     "iopub.status.idle": "2024-03-28T13:06:15.255121Z",
     "shell.execute_reply": "2024-03-28T13:06:15.254201Z"
    },
    "papermill": {
     "duration": 0.019419,
     "end_time": "2024-03-28T13:06:15.257525",
     "exception": false,
     "start_time": "2024-03-28T13:06:15.238106",
     "status": "completed"
    },
    "tags": []
   },
   "outputs": [
    {
     "data": {
      "text/plain": [
       "'3.10.13'"
      ]
     },
     "execution_count": 2,
     "metadata": {},
     "output_type": "execute_result"
    }
   ],
   "source": [
    "python_version()"
   ]
  },
  {
   "cell_type": "code",
   "execution_count": 3,
   "id": "14707c54",
   "metadata": {
    "execution": {
     "iopub.execute_input": "2024-03-28T13:06:15.277263Z",
     "iopub.status.busy": "2024-03-28T13:06:15.276174Z",
     "iopub.status.idle": "2024-03-28T13:06:15.282275Z",
     "shell.execute_reply": "2024-03-28T13:06:15.281025Z"
    },
    "papermill": {
     "duration": 0.018548,
     "end_time": "2024-03-28T13:06:15.284883",
     "exception": false,
     "start_time": "2024-03-28T13:06:15.266335",
     "status": "completed"
    },
    "tags": []
   },
   "outputs": [
    {
     "name": "stdout",
     "output_type": "stream",
     "text": [
      "Bye bye, World!\n"
     ]
    }
   ],
   "source": [
    "# Verificar se o Python está funcionando\n",
    "print('Bye bye, World!')"
   ]
  },
  {
   "cell_type": "markdown",
   "id": "45fff81f",
   "metadata": {
    "papermill": {
     "duration": 0.008632,
     "end_time": "2024-03-28T13:06:15.302094",
     "exception": false,
     "start_time": "2024-03-28T13:06:15.293462",
     "status": "completed"
    },
    "tags": []
   },
   "source": [
    "#### Operadores Aritméticos"
   ]
  },
  {
   "cell_type": "code",
   "execution_count": 4,
   "id": "13549739",
   "metadata": {
    "execution": {
     "iopub.execute_input": "2024-03-28T13:06:15.321749Z",
     "iopub.status.busy": "2024-03-28T13:06:15.321361Z",
     "iopub.status.idle": "2024-03-28T13:06:15.328050Z",
     "shell.execute_reply": "2024-03-28T13:06:15.326882Z"
    },
    "papermill": {
     "duration": 0.019365,
     "end_time": "2024-03-28T13:06:15.330663",
     "exception": false,
     "start_time": "2024-03-28T13:06:15.311298",
     "status": "completed"
    },
    "tags": []
   },
   "outputs": [
    {
     "data": {
      "text/plain": [
       "2"
      ]
     },
     "execution_count": 4,
     "metadata": {},
     "output_type": "execute_result"
    }
   ],
   "source": [
    "# Adição\n",
    "1 + 1"
   ]
  },
  {
   "cell_type": "code",
   "execution_count": 5,
   "id": "66e1f12c",
   "metadata": {
    "execution": {
     "iopub.execute_input": "2024-03-28T13:06:15.350109Z",
     "iopub.status.busy": "2024-03-28T13:06:15.349468Z",
     "iopub.status.idle": "2024-03-28T13:06:15.356193Z",
     "shell.execute_reply": "2024-03-28T13:06:15.355130Z"
    },
    "papermill": {
     "duration": 0.018991,
     "end_time": "2024-03-28T13:06:15.358358",
     "exception": false,
     "start_time": "2024-03-28T13:06:15.339367",
     "status": "completed"
    },
    "tags": []
   },
   "outputs": [
    {
     "data": {
      "text/plain": [
       "1"
      ]
     },
     "execution_count": 5,
     "metadata": {},
     "output_type": "execute_result"
    }
   ],
   "source": [
    "# Subtração\n",
    "2 - 1"
   ]
  },
  {
   "cell_type": "code",
   "execution_count": 6,
   "id": "7db8b6c5",
   "metadata": {
    "execution": {
     "iopub.execute_input": "2024-03-28T13:06:15.377902Z",
     "iopub.status.busy": "2024-03-28T13:06:15.377287Z",
     "iopub.status.idle": "2024-03-28T13:06:15.383549Z",
     "shell.execute_reply": "2024-03-28T13:06:15.382541Z"
    },
    "papermill": {
     "duration": 0.018688,
     "end_time": "2024-03-28T13:06:15.385760",
     "exception": false,
     "start_time": "2024-03-28T13:06:15.367072",
     "status": "completed"
    },
    "tags": []
   },
   "outputs": [
    {
     "data": {
      "text/plain": [
       "4"
      ]
     },
     "execution_count": 6,
     "metadata": {},
     "output_type": "execute_result"
    }
   ],
   "source": [
    "# Multiplicação\n",
    "2 * 2"
   ]
  },
  {
   "cell_type": "code",
   "execution_count": 7,
   "id": "2ba2f8a9",
   "metadata": {
    "execution": {
     "iopub.execute_input": "2024-03-28T13:06:15.405695Z",
     "iopub.status.busy": "2024-03-28T13:06:15.405080Z",
     "iopub.status.idle": "2024-03-28T13:06:15.411420Z",
     "shell.execute_reply": "2024-03-28T13:06:15.410581Z"
    },
    "papermill": {
     "duration": 0.018846,
     "end_time": "2024-03-28T13:06:15.413604",
     "exception": false,
     "start_time": "2024-03-28T13:06:15.394758",
     "status": "completed"
    },
    "tags": []
   },
   "outputs": [
    {
     "data": {
      "text/plain": [
       "1.5"
      ]
     },
     "execution_count": 7,
     "metadata": {},
     "output_type": "execute_result"
    }
   ],
   "source": [
    "# Divisão\n",
    "3 / 2"
   ]
  },
  {
   "cell_type": "code",
   "execution_count": 8,
   "id": "399394a8",
   "metadata": {
    "execution": {
     "iopub.execute_input": "2024-03-28T13:06:15.434892Z",
     "iopub.status.busy": "2024-03-28T13:06:15.434114Z",
     "iopub.status.idle": "2024-03-28T13:06:15.441200Z",
     "shell.execute_reply": "2024-03-28T13:06:15.440176Z"
    },
    "papermill": {
     "duration": 0.019698,
     "end_time": "2024-03-28T13:06:15.443452",
     "exception": false,
     "start_time": "2024-03-28T13:06:15.423754",
     "status": "completed"
    },
    "tags": []
   },
   "outputs": [
    {
     "data": {
      "text/plain": [
       "16"
      ]
     },
     "execution_count": 8,
     "metadata": {},
     "output_type": "execute_result"
    }
   ],
   "source": [
    "# Potência\n",
    "4 ** 2"
   ]
  },
  {
   "cell_type": "code",
   "execution_count": 9,
   "id": "5bd88d38",
   "metadata": {
    "execution": {
     "iopub.execute_input": "2024-03-28T13:06:15.464491Z",
     "iopub.status.busy": "2024-03-28T13:06:15.463553Z",
     "iopub.status.idle": "2024-03-28T13:06:15.470092Z",
     "shell.execute_reply": "2024-03-28T13:06:15.469017Z"
    },
    "papermill": {
     "duration": 0.019509,
     "end_time": "2024-03-28T13:06:15.472488",
     "exception": false,
     "start_time": "2024-03-28T13:06:15.452979",
     "status": "completed"
    },
    "tags": []
   },
   "outputs": [
    {
     "data": {
      "text/plain": [
       "1"
      ]
     },
     "execution_count": 9,
     "metadata": {},
     "output_type": "execute_result"
    }
   ],
   "source": [
    "# Módulo (resto da divisão)\n",
    "10 % 3"
   ]
  },
  {
   "cell_type": "markdown",
   "id": "0c8b7f1c",
   "metadata": {
    "papermill": {
     "duration": 0.009188,
     "end_time": "2024-03-28T13:06:15.491291",
     "exception": false,
     "start_time": "2024-03-28T13:06:15.482103",
     "status": "completed"
    },
    "tags": []
   },
   "source": [
    "#### Tipo de Dados (Type)"
   ]
  },
  {
   "cell_type": "code",
   "execution_count": 10,
   "id": "0a9b4949",
   "metadata": {
    "execution": {
     "iopub.execute_input": "2024-03-28T13:06:15.512396Z",
     "iopub.status.busy": "2024-03-28T13:06:15.511693Z",
     "iopub.status.idle": "2024-03-28T13:06:15.518512Z",
     "shell.execute_reply": "2024-03-28T13:06:15.517305Z"
    },
    "papermill": {
     "duration": 0.020228,
     "end_time": "2024-03-28T13:06:15.521120",
     "exception": false,
     "start_time": "2024-03-28T13:06:15.500892",
     "status": "completed"
    },
    "tags": []
   },
   "outputs": [
    {
     "data": {
      "text/plain": [
       "int"
      ]
     },
     "execution_count": 10,
     "metadata": {},
     "output_type": "execute_result"
    }
   ],
   "source": [
    "# Qual o tipo do (?) -> Inteiro\n",
    "type(5)"
   ]
  },
  {
   "cell_type": "code",
   "execution_count": 11,
   "id": "87f447e5",
   "metadata": {
    "execution": {
     "iopub.execute_input": "2024-03-28T13:06:15.542723Z",
     "iopub.status.busy": "2024-03-28T13:06:15.542349Z",
     "iopub.status.idle": "2024-03-28T13:06:15.548587Z",
     "shell.execute_reply": "2024-03-28T13:06:15.547702Z"
    },
    "papermill": {
     "duration": 0.019467,
     "end_time": "2024-03-28T13:06:15.550656",
     "exception": false,
     "start_time": "2024-03-28T13:06:15.531189",
     "status": "completed"
    },
    "tags": []
   },
   "outputs": [
    {
     "data": {
      "text/plain": [
       "float"
      ]
     },
     "execution_count": 11,
     "metadata": {},
     "output_type": "execute_result"
    }
   ],
   "source": [
    "# Qual o tipo do (?) -> Float - Decimal\n",
    "type(5.0)"
   ]
  },
  {
   "cell_type": "code",
   "execution_count": 12,
   "id": "8c951892",
   "metadata": {
    "execution": {
     "iopub.execute_input": "2024-03-28T13:06:15.572844Z",
     "iopub.status.busy": "2024-03-28T13:06:15.572187Z",
     "iopub.status.idle": "2024-03-28T13:06:15.578131Z",
     "shell.execute_reply": "2024-03-28T13:06:15.577218Z"
    },
    "papermill": {
     "duration": 0.019645,
     "end_time": "2024-03-28T13:06:15.580253",
     "exception": false,
     "start_time": "2024-03-28T13:06:15.560608",
     "status": "completed"
    },
    "tags": []
   },
   "outputs": [
    {
     "data": {
      "text/plain": [
       "str"
      ]
     },
     "execution_count": 12,
     "metadata": {},
     "output_type": "execute_result"
    }
   ],
   "source": [
    "# Qual o tipo do (?) -> String\n",
    "a = 'Estudando Python!'\n",
    "type(a)"
   ]
  },
  {
   "cell_type": "markdown",
   "id": "db0af9aa",
   "metadata": {
    "papermill": {
     "duration": 0.010666,
     "end_time": "2024-03-28T13:06:15.602687",
     "exception": false,
     "start_time": "2024-03-28T13:06:15.592021",
     "status": "completed"
    },
    "tags": []
   },
   "source": [
    "#### Condicional if"
   ]
  },
  {
   "cell_type": "code",
   "execution_count": 13,
   "id": "ecbc225a",
   "metadata": {
    "execution": {
     "iopub.execute_input": "2024-03-28T13:06:15.625934Z",
     "iopub.status.busy": "2024-03-28T13:06:15.625272Z",
     "iopub.status.idle": "2024-03-28T13:06:15.629903Z",
     "shell.execute_reply": "2024-03-28T13:06:15.629109Z"
    },
    "papermill": {
     "duration": 0.019069,
     "end_time": "2024-03-28T13:06:15.632256",
     "exception": false,
     "start_time": "2024-03-28T13:06:15.613187",
     "status": "completed"
    },
    "tags": []
   },
   "outputs": [
    {
     "name": "stdout",
     "output_type": "stream",
     "text": [
      "A sentença é verdadeira!\n"
     ]
    }
   ],
   "source": [
    "# Condicional if (Se)\n",
    "if 5 > 2:\n",
    "    print(\"A sentença é verdadeira!\")"
   ]
  },
  {
   "cell_type": "code",
   "execution_count": 14,
   "id": "19ed3f97",
   "metadata": {
    "execution": {
     "iopub.execute_input": "2024-03-28T13:06:15.655475Z",
     "iopub.status.busy": "2024-03-28T13:06:15.654497Z",
     "iopub.status.idle": "2024-03-28T13:06:15.659761Z",
     "shell.execute_reply": "2024-03-28T13:06:15.658973Z"
    },
    "papermill": {
     "duration": 0.019191,
     "end_time": "2024-03-28T13:06:15.661779",
     "exception": false,
     "start_time": "2024-03-28T13:06:15.642588",
     "status": "completed"
    },
    "tags": []
   },
   "outputs": [
    {
     "name": "stdout",
     "output_type": "stream",
     "text": [
      "A sentença é falsa!\n"
     ]
    }
   ],
   "source": [
    "# Condicional if...else\n",
    "if 5 < 2:\n",
    "    print(\"A sentença é verdadeira!\")\n",
    "else:\n",
    "    print(\"A sentença é falsa!\")"
   ]
  },
  {
   "cell_type": "code",
   "execution_count": 15,
   "id": "42a6ee90",
   "metadata": {
    "execution": {
     "iopub.execute_input": "2024-03-28T13:06:15.684876Z",
     "iopub.status.busy": "2024-03-28T13:06:15.684174Z",
     "iopub.status.idle": "2024-03-28T13:06:15.690196Z",
     "shell.execute_reply": "2024-03-28T13:06:15.689075Z"
    },
    "papermill": {
     "duration": 0.020024,
     "end_time": "2024-03-28T13:06:15.692355",
     "exception": false,
     "start_time": "2024-03-28T13:06:15.672331",
     "status": "completed"
    },
    "tags": []
   },
   "outputs": [
    {
     "name": "stdout",
     "output_type": "stream",
     "text": [
      "Hoje vai chover!\n"
     ]
    }
   ],
   "source": [
    "# Condicional if...else com variável\n",
    "dia = \"Quarta-feira\"\n",
    "if dia == \"Sexta-feira\":\n",
    "    print(\"Hoje fará sol!\")\n",
    "else:\n",
    "    print(\"Hoje vai chover!\")"
   ]
  },
  {
   "cell_type": "markdown",
   "id": "e087bdf3",
   "metadata": {
    "papermill": {
     "duration": 0.010733,
     "end_time": "2024-03-28T13:06:15.713979",
     "exception": false,
     "start_time": "2024-03-28T13:06:15.703246",
     "status": "completed"
    },
    "tags": []
   },
   "source": [
    "#### Manipulando arquivos"
   ]
  },
  {
   "cell_type": "markdown",
   "id": "f0e50f86",
   "metadata": {
    "papermill": {
     "duration": 0.010484,
     "end_time": "2024-03-28T13:06:15.735236",
     "exception": false,
     "start_time": "2024-03-28T13:06:15.724752",
     "status": "completed"
    },
    "tags": []
   },
   "source": [
    "#### Lendo arquivos (.txt)"
   ]
  },
  {
   "cell_type": "code",
   "execution_count": 16,
   "id": "de3fc153",
   "metadata": {
    "execution": {
     "iopub.execute_input": "2024-03-28T13:06:15.759054Z",
     "iopub.status.busy": "2024-03-28T13:06:15.757855Z",
     "iopub.status.idle": "2024-03-28T13:06:15.766727Z",
     "shell.execute_reply": "2024-03-28T13:06:15.765406Z"
    },
    "papermill": {
     "duration": 0.023276,
     "end_time": "2024-03-28T13:06:15.769192",
     "exception": false,
     "start_time": "2024-03-28T13:06:15.745916",
     "status": "completed"
    },
    "tags": []
   },
   "outputs": [],
   "source": [
    "# Abrindo o arquivo para leitura\n",
    "a1 = open(\"/kaggle/input/testes1/Testes.txt\", \"r\")"
   ]
  },
  {
   "cell_type": "code",
   "execution_count": 17,
   "id": "639f520e",
   "metadata": {
    "execution": {
     "iopub.execute_input": "2024-03-28T13:06:15.793454Z",
     "iopub.status.busy": "2024-03-28T13:06:15.793020Z",
     "iopub.status.idle": "2024-03-28T13:06:15.799168Z",
     "shell.execute_reply": "2024-03-28T13:06:15.798103Z"
    },
    "papermill": {
     "duration": 0.021319,
     "end_time": "2024-03-28T13:06:15.801712",
     "exception": false,
     "start_time": "2024-03-28T13:06:15.780393",
     "status": "completed"
    },
    "tags": []
   },
   "outputs": [
    {
     "name": "stdout",
     "output_type": "stream",
     "text": [
      "So para testar dataset do kaggle.\n"
     ]
    }
   ],
   "source": [
    "# Lendo o arquivo\n",
    "print(a1.read())"
   ]
  },
  {
   "cell_type": "markdown",
   "id": "dfae472a",
   "metadata": {
    "papermill": {
     "duration": 0.010677,
     "end_time": "2024-03-28T13:06:15.823270",
     "exception": false,
     "start_time": "2024-03-28T13:06:15.812593",
     "status": "completed"
    },
    "tags": []
   },
   "source": [
    "#### Gravando arquivos (.txt)"
   ]
  },
  {
   "cell_type": "code",
   "execution_count": 18,
   "id": "5adadb39",
   "metadata": {
    "execution": {
     "iopub.execute_input": "2024-03-28T13:06:15.847648Z",
     "iopub.status.busy": "2024-03-28T13:06:15.846472Z",
     "iopub.status.idle": "2024-03-28T13:06:15.851609Z",
     "shell.execute_reply": "2024-03-28T13:06:15.850838Z"
    },
    "papermill": {
     "duration": 0.019673,
     "end_time": "2024-03-28T13:06:15.853910",
     "exception": false,
     "start_time": "2024-03-28T13:06:15.834237",
     "status": "completed"
    },
    "tags": []
   },
   "outputs": [],
   "source": [
    "# Abrindo o arquivo para gravação\n",
    "a2 = open(\"/kaggle/working/arquivo2.txt\", \"w\")"
   ]
  },
  {
   "cell_type": "code",
   "execution_count": 19,
   "id": "0fb60457",
   "metadata": {
    "execution": {
     "iopub.execute_input": "2024-03-28T13:06:15.877933Z",
     "iopub.status.busy": "2024-03-28T13:06:15.877494Z",
     "iopub.status.idle": "2024-03-28T13:06:15.884317Z",
     "shell.execute_reply": "2024-03-28T13:06:15.883240Z"
    },
    "papermill": {
     "duration": 0.021592,
     "end_time": "2024-03-28T13:06:15.886741",
     "exception": false,
     "start_time": "2024-03-28T13:06:15.865149",
     "status": "completed"
    },
    "tags": []
   },
   "outputs": [
    {
     "data": {
      "text/plain": [
       "59"
      ]
     },
     "execution_count": 19,
     "metadata": {},
     "output_type": "execute_result"
    }
   ],
   "source": [
    "# Gravando no arquivo\n",
    "a2.write(\"Aprendendo Python em 2024/1 ao som de um cortador de grama!\")"
   ]
  },
  {
   "cell_type": "code",
   "execution_count": 20,
   "id": "6a1b69f1",
   "metadata": {
    "execution": {
     "iopub.execute_input": "2024-03-28T13:06:15.911485Z",
     "iopub.status.busy": "2024-03-28T13:06:15.911070Z",
     "iopub.status.idle": "2024-03-28T13:06:15.916127Z",
     "shell.execute_reply": "2024-03-28T13:06:15.915070Z"
    },
    "papermill": {
     "duration": 0.02031,
     "end_time": "2024-03-28T13:06:15.918357",
     "exception": false,
     "start_time": "2024-03-28T13:06:15.898047",
     "status": "completed"
    },
    "tags": []
   },
   "outputs": [],
   "source": [
    "# Abrindo o arquivo para leitura\n",
    "a2 = open(\"/kaggle/working/arquivo2.txt\", \"r\")"
   ]
  },
  {
   "cell_type": "code",
   "execution_count": 21,
   "id": "65bbcda1",
   "metadata": {
    "execution": {
     "iopub.execute_input": "2024-03-28T13:06:15.943809Z",
     "iopub.status.busy": "2024-03-28T13:06:15.942662Z",
     "iopub.status.idle": "2024-03-28T13:06:15.948310Z",
     "shell.execute_reply": "2024-03-28T13:06:15.947176Z"
    },
    "papermill": {
     "duration": 0.020541,
     "end_time": "2024-03-28T13:06:15.950483",
     "exception": false,
     "start_time": "2024-03-28T13:06:15.929942",
     "status": "completed"
    },
    "tags": []
   },
   "outputs": [
    {
     "name": "stdout",
     "output_type": "stream",
     "text": [
      "Aprendendo Python em 2024/1 ao som de um cortador de grama!\n"
     ]
    }
   ],
   "source": [
    "# Imprimindo arquivo\n",
    "print(a2.read())"
   ]
  }
 ],
 "metadata": {
  "kaggle": {
   "accelerator": "none",
   "dataSources": [
    {
     "datasetId": 4680199,
     "sourceId": 7956875,
     "sourceType": "datasetVersion"
    }
   ],
   "dockerImageVersionId": 30673,
   "isGpuEnabled": false,
   "isInternetEnabled": false,
   "language": "python",
   "sourceType": "notebook"
  },
  "kernelspec": {
   "display_name": "Python 3 (ipykernel)",
   "language": "python",
   "name": "python3"
  },
  "language_info": {
   "codemirror_mode": {
    "name": "ipython",
    "version": 3
   },
   "file_extension": ".py",
   "mimetype": "text/x-python",
   "name": "python",
   "nbconvert_exporter": "python",
   "pygments_lexer": "ipython3",
   "version": "3.10.13"
  },
  "papermill": {
   "default_parameters": {},
   "duration": 4.222201,
   "end_time": "2024-03-28T13:06:16.281410",
   "environment_variables": {},
   "exception": null,
   "input_path": "__notebook__.ipynb",
   "output_path": "__notebook__.ipynb",
   "parameters": {},
   "start_time": "2024-03-28T13:06:12.059209",
   "version": "2.5.0"
  }
 },
 "nbformat": 4,
 "nbformat_minor": 5
}
