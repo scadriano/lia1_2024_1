{
 "cells": [
  {
   "cell_type": "code",
   "execution_count": null,
   "id": "6b884d2a-cd5c-464c-b8f3-e91a1beededf",
   "metadata": {},
   "outputs": [],
   "source": [
    "<hr style=\"height:10px\">\n",
    "\n",
    "<div class='container2'>\n",
    "        <div>\n",
    "            <img src= 'data:image/png;base64,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' ALIGN= 'left' style= 'width: 7em'>\n",
    "        </div>\n",
    "    <div style='padding: 0 7em 2em 12em;'>\n",
    "    <h1>Laboratório de Inovação e Automação 1 (LIA 1)</h1>\n",
    "    <div style=\"font-size:12pt;float:left;\"> 2024/1 | 24M34 | Sala 200 CAE</b></div><br><br<\n",
    "    <div style=\"font-size:12pt;float:left;\"><b>Projetos de Inteligência Artificial</b></div>\n",
    "    </div>\n",
    "</div>\n",
    "\n",
    "<hr style=\"height:5px\">\n",
    "\n",
    "<h2>Introdução ao Ambiente de Projetos - Python</h2>\n",
    "\n",
    "Notebook desenvolvido por: <a href=\"\"> Fabio Antonio R.S. Siqueira</a>\n",
    "\n",
    "<hr style \"height:2px\">\n"
   ]
  },
  {
   "cell_type": "code",
   "execution_count": 31,
   "id": "8aa4e334-04fc-4b76-aac9-3fdf4734bf64",
   "metadata": {},
   "outputs": [
    {
     "name": "stdout",
     "output_type": "stream",
     "text": [
      "A versão em uso é 3.11.7.\n"
     ]
    }
   ],
   "source": [
    "from platform import python_version\n",
    "print(f'A versão em uso é {python_version()}.')"
   ]
  },
  {
   "cell_type": "code",
   "execution_count": 32,
   "id": "78f43cfb-bc80-4b5f-8c95-f976a24a1c28",
   "metadata": {},
   "outputs": [
    {
     "name": "stdout",
     "output_type": "stream",
     "text": [
      "Bye bye, World!\n"
     ]
    }
   ],
   "source": [
    "# Verificar se o Python está funcionando\n",
    "print('Bye bye, World!')"
   ]
  },
  {
   "cell_type": "code",
   "execution_count": 34,
   "id": "8c1eeaca-1b41-494f-8499-6a2016548932",
   "metadata": {},
   "outputs": [
    {
     "data": {
      "text/plain": [
       "16"
      ]
     },
     "execution_count": 34,
     "metadata": {},
     "output_type": "execute_result"
    }
   ],
   "source": [
    "#Operadores Aritméticos\n",
    "#Adição\n",
    "1 + 1\n",
    "# Subtração\n",
    "2 - 1\n",
    "#Multiplicação\n",
    "2 * 2\n",
    "#Divisão\n",
    "3 / 2\n",
    "#Potência\n",
    "4 ** 2"
   ]
  },
  {
   "cell_type": "code",
   "execution_count": 35,
   "id": "07819600-02d9-4f13-94e1-eab37488a509",
   "metadata": {},
   "outputs": [
    {
     "data": {
      "text/plain": [
       "float"
      ]
     },
     "execution_count": 35,
     "metadata": {},
     "output_type": "execute_result"
    }
   ],
   "source": [
    "# Tipo de Dados (Type)\n",
    "#Qual o tipo do (?) -> Inteiro\n",
    "type(5)\n",
    "#Qual o tipo do (?) -> Float Decimal\n",
    "type (5.0)"
   ]
  },
  {
   "cell_type": "code",
   "execution_count": 38,
   "id": "cb702318-ffba-4598-9fbb-37b024a2991b",
   "metadata": {},
   "outputs": [
    {
     "name": "stdout",
     "output_type": "stream",
     "text": [
      "A sentença é verdadeira!\n",
      "A sentença é falsa!\n"
     ]
    }
   ],
   "source": [
    "#Condicional if\n",
    "#Condicional if (Se)\n",
    "if 5 > 2:\n",
    "    print(\"A sentença é verdadeira!\")\n",
    "# Condicional if...else\n",
    "if 5 < 2:\n",
    "    print(\"A sentença é verdadeira!\")\n",
    "else:\n",
    "    print(\"A sentença é falsa!\")"
   ]
  },
  {
   "cell_type": "code",
   "execution_count": null,
   "id": "8f3045e5-2f94-4d10-b224-571b32dfb828",
   "metadata": {},
   "outputs": [],
   "source": [
    "#Lendo arquivos (.txt)\n",
    "#Abrindo a arquivo para Lelturd\n",
    "\n",
    "a1 = open(\"Users\\Fábio Siqueira\\Documentos/arquivo1.txt\", \"r\")"
   ]
  },
  {
   "cell_type": "code",
   "execution_count": null,
   "id": "fbb2bc13-53dd-4230-a54f-93b01114e675",
   "metadata": {},
   "outputs": [],
   "source": []
  },
  {
   "cell_type": "code",
   "execution_count": null,
   "id": "7ce22014-da1e-451d-a8ea-39050bf876e4",
   "metadata": {},
   "outputs": [],
   "source": []
  }
 ],
 "metadata": {
  "kernelspec": {
   "display_name": "Python 3 (ipykernel)",
   "language": "python",
   "name": "python3"
  },
  "language_info": {
   "codemirror_mode": {
    "name": "ipython",
    "version": 3
   },
   "file_extension": ".py",
   "mimetype": "text/x-python",
   "name": "python",
   "nbconvert_exporter": "python",
   "pygments_lexer": "ipython3",
   "version": "3.11.7"
  }
 },
 "nbformat": 4,
 "nbformat_minor": 5
}
