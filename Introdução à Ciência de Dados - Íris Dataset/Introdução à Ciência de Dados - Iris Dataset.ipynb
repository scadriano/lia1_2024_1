{
 "cells": [
  {
   "cell_type": "markdown",
   "id": "e51f3042",
   "metadata": {},
   "source": [
    "<hr style=\"height:10px\"> \n",
    " \n",
    "<div class='container2'>\n",
    "\t\t<div>\n",
    "\t\t\t<img src='images\\header.png' ALIGN='left' style='width:10em'>\n",
    "\t\t</div>\t\n",
    "\t<div style='padding: 0 7em 2em 12em;'>\n",
    "\t<h1>Laboratório de Inovação e Automação 1 (LIA 1)</h1>\n",
    "\t<div style=\"font-size:12pt;float:left;\"> 2023/1 | 46M34 | Sala 200 CAE</div><br><br>\n",
    "    <div style=\"font-size:12pt;float:left;\"><b>Projetos de Inteligência Artificial</b></div>\n",
    "\t</div>\n",
    "</div>\n",
    "\n",
    "\n",
    " <hr style=\"height:5px\"> \n",
    "\n",
    "    \n",
    "<h2>Aula 7 - Introdução à Ciência de Dados - Iris Dataset</h2>\n",
    "\n",
    "Notebook desenvolvido por: <a href=\"http://lattes.cnpq.br/1346824250595330\">Prof. Dr. Adriano C. Santana</a>\n",
    "\n",
    " <hr style=\"height:2px\"> "
   ]
  },
  {
   "cell_type": "code",
   "execution_count": 1,
   "id": "7569594a",
   "metadata": {},
   "outputs": [
    {
     "name": "stdout",
     "output_type": "stream",
     "text": [
      "A versão da linguagem Python usada neste projeto é a 3.9.13!\n"
     ]
    }
   ],
   "source": [
    "# Confirmar a versão da Linguagem Python instalada\n",
    "from platform import python_version\n",
    "print(f'A versão da linguagem Python usada neste projeto é a {python_version()}!')"
   ]
  },
  {
   "cell_type": "code",
   "execution_count": 2,
   "id": "f53206cf",
   "metadata": {},
   "outputs": [
    {
     "name": "stdout",
     "output_type": "stream",
     "text": [
      "Bye bye, World!\n"
     ]
    }
   ],
   "source": [
    "# Verificar se o Python está funcionando\n",
    "print('Bye bye, World!')"
   ]
  },
  {
   "cell_type": "markdown",
   "id": "1df4ce00",
   "metadata": {},
   "source": [
    "---\n",
    "## 1. Bibliotecas Necessárias para o Notebook (Aula)\n",
    "\n",
    "Para este notebook, deve ser utilizada a mesma versão apresentada pelo professor da disciplina.\n",
    "\n",
    "* [`matplotlib`](https://matplotlib.org/) (versão 3.1.3 ou superior): construção e exibição de gráficos variados.\n",
    "* [`seaborn`](https://seaborn.pydata.org/) (versão 0.10.0 ou superior): construção e exibição de gráficos variados.\n",
    "* [`numpy`](https://numpy.org) (versão 1.16.2 ou superior): manipulação de dados em formato de vetores e matrizes.\n",
    "* [`pandas`](https://pandas.pydata.org/pandas-docs/stable/index.html) (versão 0.24.1 ou superior): manipulação de dados em formato de tabelas.\n",
    "\n",
    "Será utilizado o conjunto de dados que se encontra no diretório `datasets`, em formato de arquivo `.csv e/ou .txt`."
   ]
  },
  {
   "cell_type": "markdown",
   "id": "73113d40",
   "metadata": {},
   "source": [
    "---\n",
    "## 2. Carregar e Exibir os Dados da Fonte\n",
    "\n",
    "Primeiro, vamos importar todas as bibliotecas que serão utilizadas no projeto."
   ]
  },
  {
   "cell_type": "code",
   "execution_count": 3,
   "id": "8389a86a",
   "metadata": {},
   "outputs": [
    {
     "name": "stdout",
     "output_type": "stream",
     "text": [
      "Bibliotecas carregadas com sucesso!\n"
     ]
    }
   ],
   "source": [
    "# -*- coding: utf-8 -*-\n",
    "\n",
    "# importar a biblioteca usada para trabalhar com vetores e matrizes\n",
    "import numpy as np\n",
    "\n",
    "# importar a biblioteca usada para trabalhar com dataframes (dados em formato de tabela) e análise de dados\n",
    "import pandas as pd \n",
    "\n",
    "# importar as bibliotecas usadas para geração de gráficos\n",
    "import seaborn as sns\n",
    "import matplotlib.pyplot as plt\n",
    "\n",
    "print('Bibliotecas carregadas com sucesso!')"
   ]
  },
  {
   "cell_type": "markdown",
   "id": "d65e72b9",
   "metadata": {},
   "source": [
    "### Apresentação da base de dados\n",
    "\n",
    "A base de dados Iris - que é uma flor - será usada para apresentação dos conceitos a serem estudados.\n",
    "<br>\n",
    "<br>\n",
    "<center>\n",
    "<div style=\"display:inline-block;\">\n",
    "    <div>\n",
    "    <div style=\"padding: 5px; float: left;\">\n",
    "        <img src=\"images/iris_setosa.jpeg\" style=\"height:180px;\"/>\n",
    "        <center>Setosa</center>\n",
    "    </div>\n",
    "    <div style=\"padding: 5px; float: left;\">\n",
    "        <img src=\"images/iris_virginica.jpeg\"  style=\"height:180px;\"/> \n",
    "        <center>Virginica</center>\n",
    "    </div>\n",
    "    <div style=\"padding: 5px; float: left;\">\n",
    "        <img src=\"images/iris_versicolour.jpeg\"  style=\"height:180px;\"/>\n",
    "        <center>Versicolour</center>\n",
    "    </div>\n",
    "    </div>\n",
    "</div> \n",
    "</center>"
   ]
  },
  {
   "cell_type": "markdown",
   "id": "e82ee1e9",
   "metadata": {},
   "source": [
    "Primeiro: vamos importar os dados para o dataframe."
   ]
  },
  {
   "cell_type": "code",
   "execution_count": 4,
   "id": "495f9798",
   "metadata": {},
   "outputs": [
    {
     "name": "stdout",
     "output_type": "stream",
     "text": [
      "Dados importados com sucesso!\n"
     ]
    }
   ],
   "source": [
    "# importar o arquivo e guardar em um dataframe do Pandas\n",
    "df_dataset = pd.read_csv ( 'datasets/iris.csv', sep=',', index_col=None)\n",
    "\n",
    "print('Dados importados com sucesso!')"
   ]
  },
  {
   "cell_type": "markdown",
   "id": "ae09bdee",
   "metadata": {},
   "source": [
    "Segundo: vamos dar uma olhada rápida na base de dados."
   ]
  },
  {
   "cell_type": "code",
   "execution_count": 5,
   "id": "dfa9d8a9",
   "metadata": {
    "scrolled": true
   },
   "outputs": [
    {
     "data": {
      "text/html": [
       "<div>\n",
       "<style scoped>\n",
       "    .dataframe tbody tr th:only-of-type {\n",
       "        vertical-align: middle;\n",
       "    }\n",
       "\n",
       "    .dataframe tbody tr th {\n",
       "        vertical-align: top;\n",
       "    }\n",
       "\n",
       "    .dataframe thead th {\n",
       "        text-align: right;\n",
       "    }\n",
       "</style>\n",
       "<table border=\"1\" class=\"dataframe\">\n",
       "  <thead>\n",
       "    <tr style=\"text-align: right;\">\n",
       "      <th></th>\n",
       "      <th>id_planta</th>\n",
       "      <th>comprimento_sepala</th>\n",
       "      <th>largura_sepala</th>\n",
       "      <th>comprimento_petala</th>\n",
       "      <th>largura_petala</th>\n",
       "      <th>cidade_origem</th>\n",
       "      <th>classe</th>\n",
       "    </tr>\n",
       "  </thead>\n",
       "  <tbody>\n",
       "    <tr>\n",
       "      <th>0</th>\n",
       "      <td>0</td>\n",
       "      <td>5.1</td>\n",
       "      <td>3.5</td>\n",
       "      <td>1.4</td>\n",
       "      <td>0.2</td>\n",
       "      <td>São Paulo</td>\n",
       "      <td>Iris-setosa</td>\n",
       "    </tr>\n",
       "    <tr>\n",
       "      <th>1</th>\n",
       "      <td>1</td>\n",
       "      <td>4.9</td>\n",
       "      <td>3.0</td>\n",
       "      <td>1.4</td>\n",
       "      <td>0.2</td>\n",
       "      <td>Sorocaba</td>\n",
       "      <td>Iris-setosa</td>\n",
       "    </tr>\n",
       "    <tr>\n",
       "      <th>2</th>\n",
       "      <td>2</td>\n",
       "      <td>4.7</td>\n",
       "      <td>3.2</td>\n",
       "      <td>1.3</td>\n",
       "      <td>0.2</td>\n",
       "      <td>São Paulo</td>\n",
       "      <td>Iris-setosa</td>\n",
       "    </tr>\n",
       "    <tr>\n",
       "      <th>3</th>\n",
       "      <td>3</td>\n",
       "      <td>4.6</td>\n",
       "      <td>3.1</td>\n",
       "      <td>1.5</td>\n",
       "      <td>0.2</td>\n",
       "      <td>Sorocaba</td>\n",
       "      <td>Iris-setosa</td>\n",
       "    </tr>\n",
       "    <tr>\n",
       "      <th>4</th>\n",
       "      <td>4</td>\n",
       "      <td>5.0</td>\n",
       "      <td>3.6</td>\n",
       "      <td>1.4</td>\n",
       "      <td>0.2</td>\n",
       "      <td>São Paulo</td>\n",
       "      <td>Iris-setosa</td>\n",
       "    </tr>\n",
       "    <tr>\n",
       "      <th>...</th>\n",
       "      <td>...</td>\n",
       "      <td>...</td>\n",
       "      <td>...</td>\n",
       "      <td>...</td>\n",
       "      <td>...</td>\n",
       "      <td>...</td>\n",
       "      <td>...</td>\n",
       "    </tr>\n",
       "    <tr>\n",
       "      <th>147</th>\n",
       "      <td>145</td>\n",
       "      <td>6.7</td>\n",
       "      <td>3.0</td>\n",
       "      <td>5.2</td>\n",
       "      <td>2.3</td>\n",
       "      <td>São Paulo</td>\n",
       "      <td>Iris-virginica</td>\n",
       "    </tr>\n",
       "    <tr>\n",
       "      <th>148</th>\n",
       "      <td>146</td>\n",
       "      <td>6.3</td>\n",
       "      <td>2.5</td>\n",
       "      <td>5.0</td>\n",
       "      <td>1.9</td>\n",
       "      <td>Campinas</td>\n",
       "      <td>Iris-virginica</td>\n",
       "    </tr>\n",
       "    <tr>\n",
       "      <th>149</th>\n",
       "      <td>147</td>\n",
       "      <td>6.5</td>\n",
       "      <td>3.0</td>\n",
       "      <td>5.2</td>\n",
       "      <td>2.0</td>\n",
       "      <td>Sorocaba</td>\n",
       "      <td>Iris-virginica</td>\n",
       "    </tr>\n",
       "    <tr>\n",
       "      <th>150</th>\n",
       "      <td>148</td>\n",
       "      <td>6.2</td>\n",
       "      <td>3.4</td>\n",
       "      <td>5.4</td>\n",
       "      <td>2.3</td>\n",
       "      <td>Sorocaba</td>\n",
       "      <td>Iris-virginica</td>\n",
       "    </tr>\n",
       "    <tr>\n",
       "      <th>151</th>\n",
       "      <td>149</td>\n",
       "      <td>5.9</td>\n",
       "      <td>3.0</td>\n",
       "      <td>5.1</td>\n",
       "      <td>1.8</td>\n",
       "      <td>Campinas</td>\n",
       "      <td>Iris-virginica</td>\n",
       "    </tr>\n",
       "  </tbody>\n",
       "</table>\n",
       "<p>152 rows × 7 columns</p>\n",
       "</div>"
      ],
      "text/plain": [
       "     id_planta  comprimento_sepala  largura_sepala  comprimento_petala  \\\n",
       "0            0                 5.1             3.5                 1.4   \n",
       "1            1                 4.9             3.0                 1.4   \n",
       "2            2                 4.7             3.2                 1.3   \n",
       "3            3                 4.6             3.1                 1.5   \n",
       "4            4                 5.0             3.6                 1.4   \n",
       "..         ...                 ...             ...                 ...   \n",
       "147        145                 6.7             3.0                 5.2   \n",
       "148        146                 6.3             2.5                 5.0   \n",
       "149        147                 6.5             3.0                 5.2   \n",
       "150        148                 6.2             3.4                 5.4   \n",
       "151        149                 5.9             3.0                 5.1   \n",
       "\n",
       "     largura_petala cidade_origem          classe  \n",
       "0               0.2     São Paulo     Iris-setosa  \n",
       "1               0.2      Sorocaba     Iris-setosa  \n",
       "2               0.2     São Paulo     Iris-setosa  \n",
       "3               0.2      Sorocaba     Iris-setosa  \n",
       "4               0.2     São Paulo     Iris-setosa  \n",
       "..              ...           ...             ...  \n",
       "147             2.3     São Paulo  Iris-virginica  \n",
       "148             1.9      Campinas  Iris-virginica  \n",
       "149             2.0      Sorocaba  Iris-virginica  \n",
       "150             2.3      Sorocaba  Iris-virginica  \n",
       "151             1.8      Campinas  Iris-virginica  \n",
       "\n",
       "[152 rows x 7 columns]"
      ]
     },
     "metadata": {},
     "output_type": "display_data"
    }
   ],
   "source": [
    "# exibir uma amostra do dataframe\n",
    "#display(df_dataset.head())\n",
    "display(df_dataset)"
   ]
  },
  {
   "cell_type": "markdown",
   "id": "2335d3ef",
   "metadata": {},
   "source": [
    "---\n",
    "## 3. Pré-processamento\n",
    "\n",
    "Minimizar ou eliminar problemas existentes em um conjunto de dados, bem como torná-los mais adequados para sua utilização por um determinado algoritmo de aprendizagem de máquina.\n",
    "\n",
    "## 3.1 Eliminação de atributos irrelevantes\n",
    "\n",
    "O objetivo do projeto é identificar a espécie de uma flor, que é a (`classe`). Não é preciso uma análise profunda para observar que os atributos `id_planta` e `cidade_origem` não contribuem para a identificação. Portanto, em uma tarefa de aprendizado de máquina, devemos remover esses atributos, pois são irrelevantes. \n",
    "\n",
    "*Em cenários reais, muitas vezes é necessário consultar especialistas para ajudar a identificar quais atributos são irrelevantes.*"
   ]
  },
  {
   "cell_type": "code",
   "execution_count": 6,
   "id": "d2eb9430",
   "metadata": {},
   "outputs": [
    {
     "data": {
      "text/html": [
       "<div>\n",
       "<style scoped>\n",
       "    .dataframe tbody tr th:only-of-type {\n",
       "        vertical-align: middle;\n",
       "    }\n",
       "\n",
       "    .dataframe tbody tr th {\n",
       "        vertical-align: top;\n",
       "    }\n",
       "\n",
       "    .dataframe thead th {\n",
       "        text-align: right;\n",
       "    }\n",
       "</style>\n",
       "<table border=\"1\" class=\"dataframe\">\n",
       "  <thead>\n",
       "    <tr style=\"text-align: right;\">\n",
       "      <th></th>\n",
       "      <th>comprimento_sepala</th>\n",
       "      <th>largura_sepala</th>\n",
       "      <th>comprimento_petala</th>\n",
       "      <th>largura_petala</th>\n",
       "      <th>classe</th>\n",
       "    </tr>\n",
       "  </thead>\n",
       "  <tbody>\n",
       "    <tr>\n",
       "      <th>0</th>\n",
       "      <td>5.1</td>\n",
       "      <td>3.5</td>\n",
       "      <td>1.4</td>\n",
       "      <td>0.2</td>\n",
       "      <td>Iris-setosa</td>\n",
       "    </tr>\n",
       "    <tr>\n",
       "      <th>1</th>\n",
       "      <td>4.9</td>\n",
       "      <td>3.0</td>\n",
       "      <td>1.4</td>\n",
       "      <td>0.2</td>\n",
       "      <td>Iris-setosa</td>\n",
       "    </tr>\n",
       "    <tr>\n",
       "      <th>2</th>\n",
       "      <td>4.7</td>\n",
       "      <td>3.2</td>\n",
       "      <td>1.3</td>\n",
       "      <td>0.2</td>\n",
       "      <td>Iris-setosa</td>\n",
       "    </tr>\n",
       "    <tr>\n",
       "      <th>3</th>\n",
       "      <td>4.6</td>\n",
       "      <td>3.1</td>\n",
       "      <td>1.5</td>\n",
       "      <td>0.2</td>\n",
       "      <td>Iris-setosa</td>\n",
       "    </tr>\n",
       "    <tr>\n",
       "      <th>4</th>\n",
       "      <td>5.0</td>\n",
       "      <td>3.6</td>\n",
       "      <td>1.4</td>\n",
       "      <td>0.2</td>\n",
       "      <td>Iris-setosa</td>\n",
       "    </tr>\n",
       "    <tr>\n",
       "      <th>5</th>\n",
       "      <td>5.4</td>\n",
       "      <td>3.9</td>\n",
       "      <td>1.7</td>\n",
       "      <td>0.4</td>\n",
       "      <td>Iris-setosa</td>\n",
       "    </tr>\n",
       "    <tr>\n",
       "      <th>6</th>\n",
       "      <td>4.6</td>\n",
       "      <td>3.4</td>\n",
       "      <td>1.4</td>\n",
       "      <td>0.3</td>\n",
       "      <td>Iris-setosa</td>\n",
       "    </tr>\n",
       "    <tr>\n",
       "      <th>7</th>\n",
       "      <td>5.0</td>\n",
       "      <td>3.4</td>\n",
       "      <td>1.5</td>\n",
       "      <td>0.2</td>\n",
       "      <td>Iris-setosa</td>\n",
       "    </tr>\n",
       "    <tr>\n",
       "      <th>8</th>\n",
       "      <td>4.4</td>\n",
       "      <td>2.9</td>\n",
       "      <td>1.4</td>\n",
       "      <td>0.2</td>\n",
       "      <td>Iris-setosa</td>\n",
       "    </tr>\n",
       "    <tr>\n",
       "      <th>9</th>\n",
       "      <td>4.9</td>\n",
       "      <td>3.1</td>\n",
       "      <td>1.5</td>\n",
       "      <td>0.1</td>\n",
       "      <td>Iris-setosa</td>\n",
       "    </tr>\n",
       "  </tbody>\n",
       "</table>\n",
       "</div>"
      ],
      "text/plain": [
       "   comprimento_sepala  largura_sepala  comprimento_petala  largura_petala  \\\n",
       "0                 5.1             3.5                 1.4             0.2   \n",
       "1                 4.9             3.0                 1.4             0.2   \n",
       "2                 4.7             3.2                 1.3             0.2   \n",
       "3                 4.6             3.1                 1.5             0.2   \n",
       "4                 5.0             3.6                 1.4             0.2   \n",
       "5                 5.4             3.9                 1.7             0.4   \n",
       "6                 4.6             3.4                 1.4             0.3   \n",
       "7                 5.0             3.4                 1.5             0.2   \n",
       "8                 4.4             2.9                 1.4             0.2   \n",
       "9                 4.9             3.1                 1.5             0.1   \n",
       "\n",
       "        classe  \n",
       "0  Iris-setosa  \n",
       "1  Iris-setosa  \n",
       "2  Iris-setosa  \n",
       "3  Iris-setosa  \n",
       "4  Iris-setosa  \n",
       "5  Iris-setosa  \n",
       "6  Iris-setosa  \n",
       "7  Iris-setosa  \n",
       "8  Iris-setosa  \n",
       "9  Iris-setosa  "
      ]
     },
     "metadata": {},
     "output_type": "display_data"
    }
   ],
   "source": [
    "# remover as colunas id_planta e cidade_origem\n",
    "df_dataset = df_dataset.drop(columns=['id_planta','cidade_origem'])\n",
    "\n",
    "# imprimir o dataframe\n",
    "display(df_dataset.head(n=10))"
   ]
  },
  {
   "cell_type": "markdown",
   "id": "4b3316e1",
   "metadata": {},
   "source": [
    "---\n",
    "## 3.2 Tratamento de atributos com valores ausentes\n",
    "\n",
    "Verificar se existem atributos com valores ausentes (NaN) na base de dados."
   ]
  },
  {
   "cell_type": "code",
   "execution_count": 7,
   "id": "8372fcd0",
   "metadata": {},
   "outputs": [
    {
     "data": {
      "text/html": [
       "<div>\n",
       "<style scoped>\n",
       "    .dataframe tbody tr th:only-of-type {\n",
       "        vertical-align: middle;\n",
       "    }\n",
       "\n",
       "    .dataframe tbody tr th {\n",
       "        vertical-align: top;\n",
       "    }\n",
       "\n",
       "    .dataframe thead th {\n",
       "        text-align: right;\n",
       "    }\n",
       "</style>\n",
       "<table border=\"1\" class=\"dataframe\">\n",
       "  <thead>\n",
       "    <tr style=\"text-align: right;\">\n",
       "      <th></th>\n",
       "      <th>comprimento_sepala</th>\n",
       "      <th>largura_sepala</th>\n",
       "      <th>comprimento_petala</th>\n",
       "      <th>largura_petala</th>\n",
       "      <th>classe</th>\n",
       "    </tr>\n",
       "  </thead>\n",
       "  <tbody>\n",
       "    <tr>\n",
       "      <th>23</th>\n",
       "      <td>5.1</td>\n",
       "      <td>NaN</td>\n",
       "      <td>1.7</td>\n",
       "      <td>0.5</td>\n",
       "      <td>Iris-setosa</td>\n",
       "    </tr>\n",
       "    <tr>\n",
       "      <th>24</th>\n",
       "      <td>4.8</td>\n",
       "      <td>NaN</td>\n",
       "      <td>1.9</td>\n",
       "      <td>0.2</td>\n",
       "      <td>Iris-setosa</td>\n",
       "    </tr>\n",
       "    <tr>\n",
       "      <th>30</th>\n",
       "      <td>4.8</td>\n",
       "      <td>3.1</td>\n",
       "      <td>NaN</td>\n",
       "      <td>0.2</td>\n",
       "      <td>Iris-setosa</td>\n",
       "    </tr>\n",
       "  </tbody>\n",
       "</table>\n",
       "</div>"
      ],
      "text/plain": [
       "    comprimento_sepala  largura_sepala  comprimento_petala  largura_petala  \\\n",
       "23                 5.1             NaN                 1.7             0.5   \n",
       "24                 4.8             NaN                 1.9             0.2   \n",
       "30                 4.8             3.1                 NaN             0.2   \n",
       "\n",
       "         classe  \n",
       "23  Iris-setosa  \n",
       "24  Iris-setosa  \n",
       "30  Iris-setosa  "
      ]
     },
     "metadata": {},
     "output_type": "display_data"
    }
   ],
   "source": [
    "# índices das linhas que contém valores NaN\n",
    "idxRowNan = pd.isnull(df_dataset).any(1).to_numpy().nonzero()\n",
    "\n",
    "# imprime apenas as linhas com valores ausentes\n",
    "display(df_dataset.iloc[idxRowNan])"
   ]
  },
  {
   "cell_type": "markdown",
   "id": "69682b7e",
   "metadata": {},
   "source": [
    "Preencher os valores - NaN - com a média dos valores conhecidos de `largura_sepala` e `comprimento_petala`, na respectiva classe. Neste caso, a classe é a mesma: `Iris-setosa`."
   ]
  },
  {
   "cell_type": "code",
   "execution_count": 8,
   "id": "ae3e5e75",
   "metadata": {},
   "outputs": [
    {
     "name": "stdout",
     "output_type": "stream",
     "text": [
      "\n",
      "Objeto(s) com valor(es) nulo(s):\n"
     ]
    },
    {
     "data": {
      "text/html": [
       "<div>\n",
       "<style scoped>\n",
       "    .dataframe tbody tr th:only-of-type {\n",
       "        vertical-align: middle;\n",
       "    }\n",
       "\n",
       "    .dataframe tbody tr th {\n",
       "        vertical-align: top;\n",
       "    }\n",
       "\n",
       "    .dataframe thead th {\n",
       "        text-align: right;\n",
       "    }\n",
       "</style>\n",
       "<table border=\"1\" class=\"dataframe\">\n",
       "  <thead>\n",
       "    <tr style=\"text-align: right;\">\n",
       "      <th></th>\n",
       "      <th>comprimento_sepala</th>\n",
       "      <th>largura_sepala</th>\n",
       "      <th>comprimento_petala</th>\n",
       "      <th>largura_petala</th>\n",
       "      <th>classe</th>\n",
       "    </tr>\n",
       "  </thead>\n",
       "  <tbody>\n",
       "    <tr>\n",
       "      <th>23</th>\n",
       "      <td>5.1</td>\n",
       "      <td>3.416667</td>\n",
       "      <td>1.700000</td>\n",
       "      <td>0.5</td>\n",
       "      <td>Iris-setosa</td>\n",
       "    </tr>\n",
       "    <tr>\n",
       "      <th>24</th>\n",
       "      <td>4.8</td>\n",
       "      <td>3.416667</td>\n",
       "      <td>1.900000</td>\n",
       "      <td>0.2</td>\n",
       "      <td>Iris-setosa</td>\n",
       "    </tr>\n",
       "    <tr>\n",
       "      <th>30</th>\n",
       "      <td>4.8</td>\n",
       "      <td>3.100000</td>\n",
       "      <td>1.461224</td>\n",
       "      <td>0.2</td>\n",
       "      <td>Iris-setosa</td>\n",
       "    </tr>\n",
       "  </tbody>\n",
       "</table>\n",
       "</div>"
      ],
      "text/plain": [
       "    comprimento_sepala  largura_sepala  comprimento_petala  largura_petala  \\\n",
       "23                 5.1        3.416667            1.700000             0.5   \n",
       "24                 4.8        3.416667            1.900000             0.2   \n",
       "30                 4.8        3.100000            1.461224             0.2   \n",
       "\n",
       "         classe  \n",
       "23  Iris-setosa  \n",
       "24  Iris-setosa  \n",
       "30  Iris-setosa  "
      ]
     },
     "metadata": {},
     "output_type": "display_data"
    }
   ],
   "source": [
    "def trataFaltantes( df_dataset ):\n",
    "    \n",
    "    # seleciona apenas as linhas da base de dados, onde a coluna largura_sepala não contém valores nulos\n",
    "    notNull_ls = df_dataset.loc[ ~pd.isnull(df_dataset['largura_sepala']), :]\n",
    "    # seleciona apenas as linhas da base de dados, onde a coluna comprimento_petala não contém valores nulos\n",
    "    notNull_cp = df_dataset.loc[ ~pd.isnull(df_dataset['comprimento_petala']), :]\n",
    "\n",
    "    # calcula a média dos valores do atributo largura_sepala que não são nulos e que são da classe Iris-setosa \n",
    "    media_ls = notNull_ls[ notNull_ls['classe']=='Iris-setosa' ]['largura_sepala'].mean()\n",
    "    # calcula a média dos valores do atributo comprimento_sepala que não são nulos e que são da classe Iris-setosa    \n",
    "    media_cp = notNull_cp[ notNull_cp['classe']=='Iris-setosa' ]['comprimento_petala'].mean()\n",
    "\n",
    "    # substitui os valores nulos pela média\n",
    "    df_dataset.loc[ pd.isnull(df_dataset['largura_sepala']), 'largura_sepala'] = media_ls\n",
    "    # substitui os valores nulos pela média\n",
    "    df_dataset.loc[ pd.isnull(df_dataset['comprimento_petala']), 'comprimento_petala'] = media_cp\n",
    "    \n",
    "    return df_dataset\n",
    "\n",
    "trataFaltantes( df_dataset )\n",
    "    \n",
    "# imprime apenas as linhas que antes possuíam valores NaN\n",
    "print('\\nObjeto(s) com valor(es) nulo(s):')\n",
    "display(df_dataset.iloc[idxRowNan])"
   ]
  },
  {
   "cell_type": "markdown",
   "id": "3caee7d1",
   "metadata": {},
   "source": [
    "---\n",
    "## 3.3 Tratamento de dados inconsistentes ou redundantes\n",
    "\n",
    "Verificar se existem dados inconsistentes ou redundantes. A forma mais comum de inconsistência é quando há registros representados por atributos com todos os valores iguais, mas com diagnóstico diferentes. A redundância é dada pela repetição de linhas na base de dados."
   ]
  },
  {
   "cell_type": "code",
   "execution_count": 9,
   "id": "a008c573",
   "metadata": {},
   "outputs": [
    {
     "name": "stdout",
     "output_type": "stream",
     "text": [
      "\n",
      "Objeto(s) redundante(s) e/ou inconsistente(s):\n"
     ]
    },
    {
     "data": {
      "text/html": [
       "<div>\n",
       "<style scoped>\n",
       "    .dataframe tbody tr th:only-of-type {\n",
       "        vertical-align: middle;\n",
       "    }\n",
       "\n",
       "    .dataframe tbody tr th {\n",
       "        vertical-align: top;\n",
       "    }\n",
       "\n",
       "    .dataframe thead th {\n",
       "        text-align: right;\n",
       "    }\n",
       "</style>\n",
       "<table border=\"1\" class=\"dataframe\">\n",
       "  <thead>\n",
       "    <tr style=\"text-align: right;\">\n",
       "      <th></th>\n",
       "      <th>comprimento_sepala</th>\n",
       "      <th>largura_sepala</th>\n",
       "      <th>comprimento_petala</th>\n",
       "      <th>largura_petala</th>\n",
       "      <th>classe</th>\n",
       "    </tr>\n",
       "  </thead>\n",
       "  <tbody>\n",
       "    <tr>\n",
       "      <th>9</th>\n",
       "      <td>4.9</td>\n",
       "      <td>3.1</td>\n",
       "      <td>1.5</td>\n",
       "      <td>0.1</td>\n",
       "      <td>Iris-setosa</td>\n",
       "    </tr>\n",
       "    <tr>\n",
       "      <th>34</th>\n",
       "      <td>4.9</td>\n",
       "      <td>3.1</td>\n",
       "      <td>1.5</td>\n",
       "      <td>0.1</td>\n",
       "      <td>Iris-setosa</td>\n",
       "    </tr>\n",
       "    <tr>\n",
       "      <th>37</th>\n",
       "      <td>4.9</td>\n",
       "      <td>3.1</td>\n",
       "      <td>1.5</td>\n",
       "      <td>0.1</td>\n",
       "      <td>Iris-setosa</td>\n",
       "    </tr>\n",
       "    <tr>\n",
       "      <th>49</th>\n",
       "      <td>5.0</td>\n",
       "      <td>3.3</td>\n",
       "      <td>1.4</td>\n",
       "      <td>0.2</td>\n",
       "      <td>Iris-setosa</td>\n",
       "    </tr>\n",
       "    <tr>\n",
       "      <th>50</th>\n",
       "      <td>5.0</td>\n",
       "      <td>3.3</td>\n",
       "      <td>1.4</td>\n",
       "      <td>0.2</td>\n",
       "      <td>Iris-versicolor</td>\n",
       "    </tr>\n",
       "    <tr>\n",
       "      <th>102</th>\n",
       "      <td>5.8</td>\n",
       "      <td>2.7</td>\n",
       "      <td>5.1</td>\n",
       "      <td>1.9</td>\n",
       "      <td>Iris-virginica</td>\n",
       "    </tr>\n",
       "    <tr>\n",
       "      <th>123</th>\n",
       "      <td>7.7</td>\n",
       "      <td>2.8</td>\n",
       "      <td>6.7</td>\n",
       "      <td>2.0</td>\n",
       "      <td>Iris-virginica</td>\n",
       "    </tr>\n",
       "    <tr>\n",
       "      <th>124</th>\n",
       "      <td>7.7</td>\n",
       "      <td>2.8</td>\n",
       "      <td>6.7</td>\n",
       "      <td>2.0</td>\n",
       "      <td>Iris-virginica</td>\n",
       "    </tr>\n",
       "    <tr>\n",
       "      <th>144</th>\n",
       "      <td>5.8</td>\n",
       "      <td>2.7</td>\n",
       "      <td>5.1</td>\n",
       "      <td>1.9</td>\n",
       "      <td>Iris-virginica</td>\n",
       "    </tr>\n",
       "  </tbody>\n",
       "</table>\n",
       "</div>"
      ],
      "text/plain": [
       "     comprimento_sepala  largura_sepala  comprimento_petala  largura_petala  \\\n",
       "9                   4.9             3.1                 1.5             0.1   \n",
       "34                  4.9             3.1                 1.5             0.1   \n",
       "37                  4.9             3.1                 1.5             0.1   \n",
       "49                  5.0             3.3                 1.4             0.2   \n",
       "50                  5.0             3.3                 1.4             0.2   \n",
       "102                 5.8             2.7                 5.1             1.9   \n",
       "123                 7.7             2.8                 6.7             2.0   \n",
       "124                 7.7             2.8                 6.7             2.0   \n",
       "144                 5.8             2.7                 5.1             1.9   \n",
       "\n",
       "              classe  \n",
       "9        Iris-setosa  \n",
       "34       Iris-setosa  \n",
       "37       Iris-setosa  \n",
       "49       Iris-setosa  \n",
       "50   Iris-versicolor  \n",
       "102   Iris-virginica  \n",
       "123   Iris-virginica  \n",
       "124   Iris-virginica  \n",
       "144   Iris-virginica  "
      ]
     },
     "metadata": {},
     "output_type": "display_data"
    }
   ],
   "source": [
    "df_duplicates = df_dataset[ df_dataset.duplicated(subset=['comprimento_sepala','largura_sepala','comprimento_petala','largura_petala'],keep=False)] \n",
    "\n",
    "# se houver valores redundantes ou inconsistentes, imprima \n",
    "if len(df_duplicates) > 0:\n",
    "    print('\\nObjeto(s) redundante(s) e/ou inconsistente(s):')\n",
    "    display(df_duplicates)\n",
    "else:\n",
    "    print('Não existem objetos redundantes e/ou inconsistentes!')"
   ]
  },
  {
   "cell_type": "markdown",
   "id": "7a6781f0",
   "metadata": {},
   "source": [
    "Existem objetos redundantes (duplicados) e outros inconsistentes (iguais, exceto diagnóstico distintos). \n",
    "\n",
    "Primeiro, serão removidos os registros redundantes, mantendo na base apenas o primeiro deles."
   ]
  },
  {
   "cell_type": "code",
   "execution_count": 10,
   "id": "ebbf3cab",
   "metadata": {},
   "outputs": [],
   "source": [
    "def delDuplicatas( df_dataset ):\n",
    "    \n",
    "    # remove o(s) objeto(s) duplicado(s), mantendo apenas a primeira ocorrência\n",
    "    df_dataset = df_dataset.drop_duplicates(keep = 'first')\n",
    "\n",
    "    return df_dataset\n",
    "\n",
    "df_dataset = delDuplicatas( df_dataset )"
   ]
  },
  {
   "cell_type": "markdown",
   "id": "1b63fdac",
   "metadata": {},
   "source": [
    "Após remover os objetos redundantes, é preciso checar se há registros inconsistentes."
   ]
  },
  {
   "cell_type": "code",
   "execution_count": 11,
   "id": "f4b75a45",
   "metadata": {},
   "outputs": [
    {
     "name": "stdout",
     "output_type": "stream",
     "text": [
      "\n",
      "Objeto(s) inconsistente(s):\n"
     ]
    },
    {
     "data": {
      "text/html": [
       "<div>\n",
       "<style scoped>\n",
       "    .dataframe tbody tr th:only-of-type {\n",
       "        vertical-align: middle;\n",
       "    }\n",
       "\n",
       "    .dataframe tbody tr th {\n",
       "        vertical-align: top;\n",
       "    }\n",
       "\n",
       "    .dataframe thead th {\n",
       "        text-align: right;\n",
       "    }\n",
       "</style>\n",
       "<table border=\"1\" class=\"dataframe\">\n",
       "  <thead>\n",
       "    <tr style=\"text-align: right;\">\n",
       "      <th></th>\n",
       "      <th>comprimento_sepala</th>\n",
       "      <th>largura_sepala</th>\n",
       "      <th>comprimento_petala</th>\n",
       "      <th>largura_petala</th>\n",
       "      <th>classe</th>\n",
       "    </tr>\n",
       "  </thead>\n",
       "  <tbody>\n",
       "    <tr>\n",
       "      <th>49</th>\n",
       "      <td>5.0</td>\n",
       "      <td>3.3</td>\n",
       "      <td>1.4</td>\n",
       "      <td>0.2</td>\n",
       "      <td>Iris-setosa</td>\n",
       "    </tr>\n",
       "    <tr>\n",
       "      <th>50</th>\n",
       "      <td>5.0</td>\n",
       "      <td>3.3</td>\n",
       "      <td>1.4</td>\n",
       "      <td>0.2</td>\n",
       "      <td>Iris-versicolor</td>\n",
       "    </tr>\n",
       "  </tbody>\n",
       "</table>\n",
       "</div>"
      ],
      "text/plain": [
       "    comprimento_sepala  largura_sepala  comprimento_petala  largura_petala  \\\n",
       "49                 5.0             3.3                 1.4             0.2   \n",
       "50                 5.0             3.3                 1.4             0.2   \n",
       "\n",
       "             classe  \n",
       "49      Iris-setosa  \n",
       "50  Iris-versicolor  "
      ]
     },
     "metadata": {},
     "output_type": "display_data"
    }
   ],
   "source": [
    "df_duplicates = df_dataset[ df_dataset.duplicated(subset=['comprimento_sepala','largura_sepala','comprimento_petala','largura_petala'],keep=False)] \n",
    "\n",
    "# se existir objetos inconsistentes, exibir\n",
    "if len(df_duplicates)>0:\n",
    "    print('\\nObjeto(s) inconsistente(s):')\n",
    "    display(df_duplicates)\n",
    "else:\n",
    "    print('Não existem objetos redundantes e/ou inconsistentes!')\n",
    "    "
   ]
  },
  {
   "cell_type": "markdown",
   "id": "ba19fce1",
   "metadata": {},
   "source": [
    "Existem registros inconsistentes. Nesse caso, como não é possível saber qual deles está correto. Assim, eles devem ser eliminados."
   ]
  },
  {
   "cell_type": "code",
   "execution_count": 12,
   "id": "52a65fd5",
   "metadata": {},
   "outputs": [
    {
     "name": "stdout",
     "output_type": "stream",
     "text": [
      "Não existem registros redundantes e/ou inconsistentes! :)\n"
     ]
    }
   ],
   "source": [
    "def delInconsistencias( df_dataset ):\n",
    "\n",
    "    df_dataset = df_dataset.drop_duplicates(subset=['comprimento_sepala','largura_sepala','comprimento_petala','largura_petala'], keep = False)    \n",
    "  \n",
    "    return df_dataset\n",
    "\n",
    "df_dataset = delInconsistencias( df_dataset )\n",
    "\n",
    "# obtém apenas as amostras onde os valores dos atributos estão duplicados\n",
    "df_duplicates = df_dataset[ df_dataset.duplicated(subset=['comprimento_sepala','largura_sepala','comprimento_petala','largura_petala'],keep=False)] \n",
    "\n",
    "# se existir registros redundantes ou inconsistentes, exibir\n",
    "if len(df_duplicates) > 0:\n",
    "    display(df_duplicates)\n",
    "else:\n",
    "    print('Não existem registros redundantes e/ou inconsistentes! :)')"
   ]
  },
  {
   "cell_type": "markdown",
   "id": "67111385",
   "metadata": {},
   "source": [
    "---\n",
    "## 4. Análise dos Dados\n",
    "A análise das características presentes em um conjunto de dados permite a descoberta de padrões e tendências que podem fornecer informações valiosas para compreender o processo que gerou os dados."
   ]
  },
  {
   "cell_type": "code",
   "execution_count": 13,
   "id": "c6512464",
   "metadata": {},
   "outputs": [
    {
     "data": {
      "text/html": [
       "<div>\n",
       "<style scoped>\n",
       "    .dataframe tbody tr th:only-of-type {\n",
       "        vertical-align: middle;\n",
       "    }\n",
       "\n",
       "    .dataframe tbody tr th {\n",
       "        vertical-align: top;\n",
       "    }\n",
       "\n",
       "    .dataframe thead th {\n",
       "        text-align: right;\n",
       "    }\n",
       "</style>\n",
       "<table border=\"1\" class=\"dataframe\">\n",
       "  <thead>\n",
       "    <tr style=\"text-align: right;\">\n",
       "      <th></th>\n",
       "      <th>comprimento_sepala</th>\n",
       "      <th>largura_sepala</th>\n",
       "      <th>comprimento_petala</th>\n",
       "      <th>largura_petala</th>\n",
       "    </tr>\n",
       "  </thead>\n",
       "  <tbody>\n",
       "    <tr>\n",
       "      <th>count</th>\n",
       "      <td>146.000000</td>\n",
       "      <td>146.000000</td>\n",
       "      <td>146.000000</td>\n",
       "      <td>146.000000</td>\n",
       "    </tr>\n",
       "    <tr>\n",
       "      <th>mean</th>\n",
       "      <td>5.958219</td>\n",
       "      <td>3.190639</td>\n",
       "      <td>3.795625</td>\n",
       "      <td>1.215753</td>\n",
       "    </tr>\n",
       "    <tr>\n",
       "      <th>std</th>\n",
       "      <td>1.493284</td>\n",
       "      <td>1.715087</td>\n",
       "      <td>1.755223</td>\n",
       "      <td>0.755822</td>\n",
       "    </tr>\n",
       "    <tr>\n",
       "      <th>min</th>\n",
       "      <td>4.300000</td>\n",
       "      <td>2.000000</td>\n",
       "      <td>1.000000</td>\n",
       "      <td>0.100000</td>\n",
       "    </tr>\n",
       "    <tr>\n",
       "      <th>25%</th>\n",
       "      <td>5.100000</td>\n",
       "      <td>2.800000</td>\n",
       "      <td>1.600000</td>\n",
       "      <td>0.300000</td>\n",
       "    </tr>\n",
       "    <tr>\n",
       "      <th>50%</th>\n",
       "      <td>5.800000</td>\n",
       "      <td>3.000000</td>\n",
       "      <td>4.400000</td>\n",
       "      <td>1.300000</td>\n",
       "    </tr>\n",
       "    <tr>\n",
       "      <th>75%</th>\n",
       "      <td>6.400000</td>\n",
       "      <td>3.400000</td>\n",
       "      <td>5.100000</td>\n",
       "      <td>1.800000</td>\n",
       "    </tr>\n",
       "    <tr>\n",
       "      <th>max</th>\n",
       "      <td>20.900000</td>\n",
       "      <td>23.100000</td>\n",
       "      <td>6.900000</td>\n",
       "      <td>2.500000</td>\n",
       "    </tr>\n",
       "  </tbody>\n",
       "</table>\n",
       "</div>"
      ],
      "text/plain": [
       "       comprimento_sepala  largura_sepala  comprimento_petala  largura_petala\n",
       "count          146.000000      146.000000          146.000000      146.000000\n",
       "mean             5.958219        3.190639            3.795625        1.215753\n",
       "std              1.493284        1.715087            1.755223        0.755822\n",
       "min              4.300000        2.000000            1.000000        0.100000\n",
       "25%              5.100000        2.800000            1.600000        0.300000\n",
       "50%              5.800000        3.000000            4.400000        1.300000\n",
       "75%              6.400000        3.400000            5.100000        1.800000\n",
       "max             20.900000       23.100000            6.900000        2.500000"
      ]
     },
     "metadata": {},
     "output_type": "display_data"
    }
   ],
   "source": [
    "# apresenta as principais estatísticas da base de dados para atributos numéricos\n",
    "df_detalhes = df_dataset.describe()\n",
    "\n",
    "display(df_detalhes)"
   ]
  },
  {
   "cell_type": "markdown",
   "id": "dd8e0964",
   "metadata": {},
   "source": [
    "---\n",
    "## 4.1 Detecção de outliers (valor atípico)\n",
    "Outro passo importante na análise e tratamento dos dados é a detecção de outliers (dados gerados por leituras incorretas, erros de digitação etc)."
   ]
  },
  {
   "cell_type": "markdown",
   "id": "062a34ea",
   "metadata": {},
   "source": [
    "`Gráfico Box Plot`\n",
    "\n",
    "Uma das maneiras mais simples de verificar se os dados contém outliers."
   ]
  },
  {
   "cell_type": "code",
   "execution_count": 14,
   "id": "d6540222",
   "metadata": {},
   "outputs": [
    {
     "data": {
      "image/png": "[encoded data removed]",
      "text/plain": [
       "<Figure size 1500x700 with 1 Axes>"
      ]
     },
     "metadata": {},
     "output_type": "display_data"
    }
   ],
   "source": [
    "# gerar um bloxplot para cada atributo\n",
    "df_dataset.boxplot(figsize=(15,7))\n",
    "plt.show()"
   ]
  },
  {
   "cell_type": "markdown",
   "id": "bbd0fdb4",
   "metadata": {},
   "source": [
    "O box plot está indicando que os atributos `comprimento_petala` e `largura_petala` possuem *outliers*, o que pode prejudicar o desempenho de vários métodos de aprendizado de máquina, pois tratam-se de objetos com valores de atributos incorretos."
   ]
  },
  {
   "cell_type": "code",
   "execution_count": 15,
   "id": "1c6cdb05",
   "metadata": {},
   "outputs": [
    {
     "data": {
      "image/png": "[encoded data removed]",
      "text/plain": [
       "<Figure size 1500x700 with 1 Axes>"
      ]
     },
     "metadata": {},
     "output_type": "display_data"
    }
   ],
   "source": [
    "def removeOutliers(df_dataset):\n",
    "    \"\"\"\n",
    "    Remove os outliers da base de dados \n",
    "    \"\"\"\n",
    "    \n",
    "    for atributo in df_dataset.columns[:-1]:\n",
    "\n",
    "        # obtem o terceiro e o primeiro quartil. \n",
    "        q75, q25 = np.percentile(df_dataset[atributo].values, [75 ,25])\n",
    "        \n",
    "        # calcula o IQR\n",
    "        IQR = q75 - q25\n",
    "\n",
    "        # remove os outliers com base no valor do IQR\n",
    "        df_dataset = df_dataset[ (df_dataset[atributo]<=(q75+1.5*IQR)) & (df_dataset[atributo]>=(q25-1.5*IQR)) ]\n",
    "    \n",
    "    return df_dataset\n",
    "\n",
    "# remove os outliers\n",
    "df_dataset = removeOutliers( df_dataset )\n",
    "\n",
    "# apresenta as principais estatísticas sobre a base de dados\n",
    "df_dataset.boxplot(figsize=(15,7))\n",
    "plt.show()\n"
   ]
  },
  {
   "cell_type": "markdown",
   "id": "24b46b25",
   "metadata": {},
   "source": [
    "Depois da remoção, o box plot e os gráficos de dispersão indicam que não há mais nenhum *outlier* na base de dados. "
   ]
  }
 ],
 "metadata": {
  "kernelspec": {
   "display_name": "Python 3 (ipykernel)",
   "language": "python",
   "name": "python3"
  },
  "language_info": {
   "codemirror_mode": {
    "name": "ipython",
    "version": 3
   },
   "file_extension": ".py",
   "mimetype": "text/x-python",
   "name": "python",
   "nbconvert_exporter": "python",
   "pygments_lexer": "ipython3",
   "version": "3.9.13"
  }
 },
 "nbformat": 4,
 "nbformat_minor": 5
}
