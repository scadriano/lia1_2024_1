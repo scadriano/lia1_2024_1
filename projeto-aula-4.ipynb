{
 "cells": [
  {
   "cell_type": "markdown",
   "id": "5461dc21",
   "metadata": {
    "papermill": {
     "duration": 0.003199,
     "end_time": "2024-03-27T13:40:51.643472",
     "exception": false,
     "start_time": "2024-03-27T13:40:51.640273",
     "status": "completed"
    },
    "tags": []
   },
   "source": [
    "<hr style=\"height:10px\"> \n",
    "\n",
    "<div class='container2'>\n",
    "    <div>\n",
    "        <img src='/kaggle/input/imagequack/default-thumb.png' ALIGN='left' style='width:10em'>\n",
    "    </div> \n",
    "    <div style='padding: 0 7em 2em 12em;'>\n",
    "        <h1>Laboratório de Inovação e Automação 1 (LIA 1)</h1>\n",
    "        <div style=\"font-size:12pt;float:left;\"> 2024/1 | 24M34 | Sala 200 CAE</div><br><br>\n",
    "        <div style=\"font-size:12pt;float:left;\"><b>Projetos de Inteligência Artificial</b></div>\n",
    "    </div>\n",
    "</div>\n",
    "\n",
    "\n",
    " <hr style=\"height:5px\"> \n",
    "\n",
    "\n",
    "<h2>Introdução ao Ambiente de Projetos - Python</h2>\n",
    "\n",
    "Notebook desenvolvido por: Victor Paulo Ribeiro de Oliveira \n",
    "\n",
    " <hr style=\"height:2px\">"
   ]
  },
  {
   "cell_type": "code",
   "execution_count": 1,
   "id": "0172ee54",
   "metadata": {
    "execution": {
     "iopub.execute_input": "2024-03-27T13:40:51.650863Z",
     "iopub.status.busy": "2024-03-27T13:40:51.650472Z",
     "iopub.status.idle": "2024-03-27T13:40:51.665612Z",
     "shell.execute_reply": "2024-03-27T13:40:51.664591Z"
    },
    "papermill": {
     "duration": 0.021738,
     "end_time": "2024-03-27T13:40:51.668089",
     "exception": false,
     "start_time": "2024-03-27T13:40:51.646351",
     "status": "completed"
    },
    "tags": []
   },
   "outputs": [
    {
     "name": "stdout",
     "output_type": "stream",
     "text": [
      "A versão em uso é 3.10.13.\n",
      "Testando Som, som som som!\n"
     ]
    }
   ],
   "source": [
    "from platform import python_version\n",
    "print(f'A versão em uso é {python_version()}.')\n",
    "python_version()\n",
    "# Verificar se o Python está funcionando\n",
    "print('Testando Som, som som som!')"
   ]
  },
  {
   "cell_type": "code",
   "execution_count": 2,
   "id": "8160fcc9",
   "metadata": {
    "execution": {
     "iopub.execute_input": "2024-03-27T13:40:51.676030Z",
     "iopub.status.busy": "2024-03-27T13:40:51.675030Z",
     "iopub.status.idle": "2024-03-27T13:40:51.690770Z",
     "shell.execute_reply": "2024-03-27T13:40:51.689546Z"
    },
    "papermill": {
     "duration": 0.022405,
     "end_time": "2024-03-27T13:40:51.693345",
     "exception": false,
     "start_time": "2024-03-27T13:40:51.670940",
     "status": "completed"
    },
    "tags": []
   },
   "outputs": [
    {
     "name": "stdout",
     "output_type": "stream",
     "text": [
      "OLA MUNDO\n",
      "\n"
     ]
    }
   ],
   "source": [
    "# Abrindo o arquivo para leitura\n",
    "a1 = open(\"/kaggle/input/arquivo-da-aula-4-lia-2024-1/Arquivo1.txt\", \"r\")\n",
    "# Lendo o arquivo\n",
    "print(a1.read())"
   ]
  },
  {
   "cell_type": "code",
   "execution_count": 3,
   "id": "3ff30e4d",
   "metadata": {
    "execution": {
     "iopub.execute_input": "2024-03-27T13:40:51.701846Z",
     "iopub.status.busy": "2024-03-27T13:40:51.700626Z",
     "iopub.status.idle": "2024-03-27T13:40:51.707955Z",
     "shell.execute_reply": "2024-03-27T13:40:51.706596Z"
    },
    "papermill": {
     "duration": 0.01401,
     "end_time": "2024-03-27T13:40:51.710284",
     "exception": false,
     "start_time": "2024-03-27T13:40:51.696274",
     "status": "completed"
    },
    "tags": []
   },
   "outputs": [
    {
     "name": "stdout",
     "output_type": "stream",
     "text": [
      "Aprendendo Python em 2024/1 ao som de um cortador de grama!\n"
     ]
    }
   ],
   "source": [
    "# Abrindo o arquivo para gravação\n",
    "a2 = open(\"/kaggle/working/Arquivo1.txt\", \"w\")\n",
    "# Gravando no arquivo\n",
    "a2.write(\"Aprendendo Python em 2024/1 ao som de um cortador de grama!\")\n",
    "# Abrindo o arquivo para leitura\n",
    "a2 = open(\"/kaggle/working/Arquivo1.txt\", \"r\")\n",
    "# Imprimindo arquivo\n",
    "print(a2.read())"
   ]
  }
 ],
 "metadata": {
  "kaggle": {
   "accelerator": "none",
   "dataSources": [
    {
     "datasetId": 4680188,
     "sourceId": 7956860,
     "sourceType": "datasetVersion"
    },
    {
     "datasetId": 4680435,
     "sourceId": 7957192,
     "sourceType": "datasetVersion"
    }
   ],
   "dockerImageVersionId": 30673,
   "isGpuEnabled": false,
   "isInternetEnabled": false,
   "language": "python",
   "sourceType": "notebook"
  },
  "kernelspec": {
   "display_name": "Python 3",
   "language": "python",
   "name": "python3"
  },
  "language_info": {
   "codemirror_mode": {
    "name": "ipython",
    "version": 3
   },
   "file_extension": ".py",
   "mimetype": "text/x-python",
   "name": "python",
   "nbconvert_exporter": "python",
   "pygments_lexer": "ipython3",
   "version": "3.10.13"
  },
  "papermill": {
   "default_parameters": {},
   "duration": 3.735671,
   "end_time": "2024-03-27T13:40:52.134057",
   "environment_variables": {},
   "exception": null,
   "input_path": "__notebook__.ipynb",
   "output_path": "__notebook__.ipynb",
   "parameters": {},
   "start_time": "2024-03-27T13:40:48.398386",
   "version": "2.5.0"
  }
 },
 "nbformat": 4,
 "nbformat_minor": 5
}
